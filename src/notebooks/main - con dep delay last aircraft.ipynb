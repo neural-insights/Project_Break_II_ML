{
 "cells": [
  {
   "cell_type": "markdown",
   "metadata": {},
   "source": [
    "# Project_Break_II_ML\n",
    "\n",
    "# Flights Delay Prediction"
   ]
  },
  {
   "cell_type": "markdown",
   "metadata": {},
   "source": [
    "<img src=\"src/img/openart_image_1_1.jpg\" width=\"1200\"/>\n"
   ]
  },
  {
   "cell_type": "markdown",
   "metadata": {},
   "source": [
    "This work aims to use a dataset on flights, geolocation, and meteorological indicators to predict possible delays. The dataset used was obtained from the following Kaggle page: https://www.kaggle.com/datasets/bordanova/2023-us-civil-flights-delay-meteo-and-aircraft/data\n",
    "\n",
    "## General Objectives:\n",
    "- (1) Prediction of whether a flight will be delayed at takeoff;\n",
    "- (2) Prediction of the takeoff time;\n",
    "- (3) Prediction of the arrival time at the destination airport;\n",
    "\n",
    "## Specific Objectives:\n",
    "- (1) A binary classifier to classify delayed flights (class 1) and on-time flights (class 0) within a 15-minute tolerance beyond the scheduled time. For this objective, only logistical data available since the flight booking and weather forecasts will be used, without real-time updates immediately before takeoff. This makes the classifier very challenging but provides a highly important predictive potential, as it helps identify delay patterns that are independent of unpredictable, stochastic, and uncontrollable events;\n",
    "\n",
    "- (2) A linear regression model to predict the actual takeoff time. Similar to the previous case, but with a continuous extension of the takeoff time, not just predicting whether it will be more or less than 15 minutes delayed. This prediction is highly relevant, as there is a significant discrepancy between possible delays that are not predicted by a classifier;\n",
    "\n",
    "- (3) Prediction of the arrival time at the destination airport once the actual takeoff time is known.\n"
   ]
  },
  {
   "cell_type": "markdown",
   "metadata": {},
   "source": [
    "https://www.kaggle.com/datasets/bordanova/2023-us-civil-flights-delay-meteo-and-aircraft/data"
   ]
  },
  {
   "cell_type": "markdown",
   "metadata": {},
   "source": [
    "-------------------------------"
   ]
  },
  {
   "cell_type": "markdown",
   "metadata": {},
   "source": [
    "# Objective 1: *Departure Delay Classification*"
   ]
  },
  {
   "cell_type": "markdown",
   "metadata": {},
   "source": [
    "Importing Libraries"
   ]
  },
  {
   "cell_type": "code",
   "execution_count": 1,
   "metadata": {},
   "outputs": [],
   "source": [
    "import pandas as pd\n",
    "import numpy as np\n",
    "import matplotlib.pyplot as plt\n",
    "import seaborn as sns"
   ]
  },
  {
   "cell_type": "code",
   "execution_count": 2,
   "metadata": {},
   "outputs": [],
   "source": [
    "pd.set_option('display.max_columns', None)"
   ]
  },
  {
   "cell_type": "markdown",
   "metadata": {},
   "source": [
    "Importing Personalized Tools"
   ]
  },
  {
   "cell_type": "code",
   "execution_count": 3,
   "metadata": {},
   "outputs": [],
   "source": [
    "import sys\n",
    "import os\n",
    "\n",
    "sys.path.append(os.path.abspath('src'))\n",
    "\n",
    "from utils.User_Functions import *"
   ]
  },
  {
   "cell_type": "markdown",
   "metadata": {},
   "source": [
    "Importing Datasets"
   ]
  },
  {
   "cell_type": "code",
   "execution_count": 4,
   "metadata": {},
   "outputs": [
    {
     "name": "stdout",
     "output_type": "stream",
     "text": [
      "<class 'pandas.core.frame.DataFrame'>\n",
      "RangeIndex: 6743404 entries, 0 to 6743403\n",
      "Data columns (total 24 columns):\n",
      " #   Column              Dtype \n",
      "---  ------              ----- \n",
      " 0   FlightDate          object\n",
      " 1   Day_Of_Week         int64 \n",
      " 2   Airline             object\n",
      " 3   Tail_Number         object\n",
      " 4   Dep_Airport         object\n",
      " 5   Dep_CityName        object\n",
      " 6   DepTime_label       object\n",
      " 7   Dep_Delay           int64 \n",
      " 8   Dep_Delay_Tag       int64 \n",
      " 9   Dep_Delay_Type      object\n",
      " 10  Arr_Airport         object\n",
      " 11  Arr_CityName        object\n",
      " 12  Arr_Delay           int64 \n",
      " 13  Arr_Delay_Type      object\n",
      " 14  Flight_Duration     int64 \n",
      " 15  Distance_type       object\n",
      " 16  Delay_Carrier       int64 \n",
      " 17  Delay_Weather       int64 \n",
      " 18  Delay_NAS           int64 \n",
      " 19  Delay_Security      int64 \n",
      " 20  Delay_LastAircraft  int64 \n",
      " 21  Manufacturer        object\n",
      " 22  Model               object\n",
      " 23  Aicraft_age         int64 \n",
      "dtypes: int64(11), object(13)\n",
      "memory usage: 1.2+ GB\n"
     ]
    }
   ],
   "source": [
    "df_flights = pd.read_csv(\"./src/data/US_flights_2023.csv\")\n",
    "df_flights.info()"
   ]
  },
  {
   "cell_type": "code",
   "execution_count": 5,
   "metadata": {},
   "outputs": [
    {
     "name": "stdout",
     "output_type": "stream",
     "text": [
      "<class 'pandas.core.frame.DataFrame'>\n",
      "RangeIndex: 132860 entries, 0 to 132859\n",
      "Data columns (total 10 columns):\n",
      " #   Column      Non-Null Count   Dtype  \n",
      "---  ------      --------------   -----  \n",
      " 0   time        132860 non-null  object \n",
      " 1   tavg        132860 non-null  float64\n",
      " 2   tmin        132860 non-null  float64\n",
      " 3   tmax        132860 non-null  float64\n",
      " 4   prcp        132860 non-null  float64\n",
      " 5   snow        132860 non-null  float64\n",
      " 6   wdir        132860 non-null  float64\n",
      " 7   wspd        132860 non-null  float64\n",
      " 8   pres        132860 non-null  float64\n",
      " 9   airport_id  132860 non-null  object \n",
      "dtypes: float64(8), object(2)\n",
      "memory usage: 10.1+ MB\n"
     ]
    }
   ],
   "source": [
    "df_weather = pd.read_csv(\"./src/data/weather_meteo_by_airport.csv\")\n",
    "df_weather.info()"
   ]
  },
  {
   "cell_type": "code",
   "execution_count": 6,
   "metadata": {},
   "outputs": [
    {
     "name": "stdout",
     "output_type": "stream",
     "text": [
      "<class 'pandas.core.frame.DataFrame'>\n",
      "RangeIndex: 364 entries, 0 to 363\n",
      "Data columns (total 7 columns):\n",
      " #   Column     Non-Null Count  Dtype  \n",
      "---  ------     --------------  -----  \n",
      " 0   IATA_CODE  364 non-null    object \n",
      " 1   AIRPORT    364 non-null    object \n",
      " 2   CITY       364 non-null    object \n",
      " 3   STATE      364 non-null    object \n",
      " 4   COUNTRY    364 non-null    object \n",
      " 5   LATITUDE   364 non-null    float64\n",
      " 6   LONGITUDE  364 non-null    float64\n",
      "dtypes: float64(2), object(5)\n",
      "memory usage: 20.0+ KB\n"
     ]
    }
   ],
   "source": [
    "df_location = pd.read_csv(\"./src/data/airports_geolocation.csv\")\n",
    "df_location.info()"
   ]
  },
  {
   "cell_type": "code",
   "execution_count": 7,
   "metadata": {},
   "outputs": [],
   "source": [
    "# Converting FlightDate and time to datetime\n",
    "df_flights['FlightDate'] = pd.to_datetime(df_flights['FlightDate'], errors='coerce')\n",
    "df_weather['time'] = pd.to_datetime(df_weather['time'], errors='coerce')\n",
    "\n",
    "# Merging DataFrames df_flights, df_location, df_weather\n",
    "merged_df = pd.merge(df_flights, df_location,\n",
    "                    how='left',\n",
    "                    left_on=['Dep_Airport'],\n",
    "                    right_on=['IATA_CODE'])\n",
    "\n",
    "merged_df = pd.merge(merged_df, df_weather,\n",
    "                      how='left',\n",
    "                      left_on=['Dep_Airport', 'FlightDate'],\n",
    "                      right_on=['airport_id', 'time'])\n"
   ]
  },
  {
   "cell_type": "code",
   "execution_count": 8,
   "metadata": {},
   "outputs": [
    {
     "data": {
      "text/html": [
       "<div>\n",
       "<style scoped>\n",
       "    .dataframe tbody tr th:only-of-type {\n",
       "        vertical-align: middle;\n",
       "    }\n",
       "\n",
       "    .dataframe tbody tr th {\n",
       "        vertical-align: top;\n",
       "    }\n",
       "\n",
       "    .dataframe thead th {\n",
       "        text-align: right;\n",
       "    }\n",
       "</style>\n",
       "<table border=\"1\" class=\"dataframe\">\n",
       "  <thead>\n",
       "    <tr style=\"text-align: right;\">\n",
       "      <th></th>\n",
       "      <th>FlightDate</th>\n",
       "      <th>Day_Of_Week</th>\n",
       "      <th>Airline</th>\n",
       "      <th>Tail_Number</th>\n",
       "      <th>Dep_Airport</th>\n",
       "      <th>Dep_CityName</th>\n",
       "      <th>DepTime_label</th>\n",
       "      <th>Dep_Delay</th>\n",
       "      <th>Dep_Delay_Tag</th>\n",
       "      <th>Dep_Delay_Type</th>\n",
       "      <th>Arr_Airport</th>\n",
       "      <th>Arr_CityName</th>\n",
       "      <th>Arr_Delay</th>\n",
       "      <th>Arr_Delay_Type</th>\n",
       "      <th>Flight_Duration</th>\n",
       "      <th>Distance_type</th>\n",
       "      <th>Delay_Carrier</th>\n",
       "      <th>Delay_Weather</th>\n",
       "      <th>Delay_NAS</th>\n",
       "      <th>Delay_Security</th>\n",
       "      <th>Delay_LastAircraft</th>\n",
       "      <th>Manufacturer</th>\n",
       "      <th>Model</th>\n",
       "      <th>Aicraft_age</th>\n",
       "      <th>IATA_CODE</th>\n",
       "      <th>AIRPORT</th>\n",
       "      <th>CITY</th>\n",
       "      <th>STATE</th>\n",
       "      <th>COUNTRY</th>\n",
       "      <th>LATITUDE</th>\n",
       "      <th>LONGITUDE</th>\n",
       "      <th>time</th>\n",
       "      <th>tavg</th>\n",
       "      <th>tmin</th>\n",
       "      <th>tmax</th>\n",
       "      <th>prcp</th>\n",
       "      <th>snow</th>\n",
       "      <th>wdir</th>\n",
       "      <th>wspd</th>\n",
       "      <th>pres</th>\n",
       "      <th>airport_id</th>\n",
       "    </tr>\n",
       "  </thead>\n",
       "  <tbody>\n",
       "    <tr>\n",
       "      <th>5680496</th>\n",
       "      <td>2023-11-07</td>\n",
       "      <td>2</td>\n",
       "      <td>American Airlines Inc.</td>\n",
       "      <td>N435AN</td>\n",
       "      <td>PHL</td>\n",
       "      <td>Philadelphia, PA</td>\n",
       "      <td>Evening</td>\n",
       "      <td>58</td>\n",
       "      <td>1</td>\n",
       "      <td>Medium &gt;15min</td>\n",
       "      <td>DFW</td>\n",
       "      <td>Dallas/Fort Worth, TX</td>\n",
       "      <td>62</td>\n",
       "      <td>Hight &gt;60min</td>\n",
       "      <td>238</td>\n",
       "      <td>Short Haul &gt;1500Mi</td>\n",
       "      <td>58</td>\n",
       "      <td>0</td>\n",
       "      <td>4</td>\n",
       "      <td>0</td>\n",
       "      <td>0</td>\n",
       "      <td>AIRBUS</td>\n",
       "      <td>A321</td>\n",
       "      <td>3</td>\n",
       "      <td>PHL</td>\n",
       "      <td>Philadelphia International Airport</td>\n",
       "      <td>Philadelphia</td>\n",
       "      <td>PA</td>\n",
       "      <td>USA</td>\n",
       "      <td>39.87195</td>\n",
       "      <td>-75.24114</td>\n",
       "      <td>2023-11-07</td>\n",
       "      <td>14.3</td>\n",
       "      <td>11.1</td>\n",
       "      <td>18.3</td>\n",
       "      <td>0.0</td>\n",
       "      <td>0.0</td>\n",
       "      <td>240.0</td>\n",
       "      <td>14.4</td>\n",
       "      <td>1010.0</td>\n",
       "      <td>PHL</td>\n",
       "    </tr>\n",
       "    <tr>\n",
       "      <th>516829</th>\n",
       "      <td>2023-01-19</td>\n",
       "      <td>4</td>\n",
       "      <td>United Air Lines Inc.</td>\n",
       "      <td>N883UA</td>\n",
       "      <td>ORD</td>\n",
       "      <td>Chicago, IL</td>\n",
       "      <td>Afternoon</td>\n",
       "      <td>-5</td>\n",
       "      <td>0</td>\n",
       "      <td>Low &lt;5min</td>\n",
       "      <td>ORF</td>\n",
       "      <td>Norfolk, VA</td>\n",
       "      <td>-10</td>\n",
       "      <td>Low &lt;5min</td>\n",
       "      <td>123</td>\n",
       "      <td>Short Haul &gt;1500Mi</td>\n",
       "      <td>0</td>\n",
       "      <td>0</td>\n",
       "      <td>0</td>\n",
       "      <td>0</td>\n",
       "      <td>0</td>\n",
       "      <td>AIRBUS</td>\n",
       "      <td>A319</td>\n",
       "      <td>19</td>\n",
       "      <td>ORD</td>\n",
       "      <td>Chicago O'Hare International Airport</td>\n",
       "      <td>Chicago</td>\n",
       "      <td>IL</td>\n",
       "      <td>USA</td>\n",
       "      <td>41.97960</td>\n",
       "      <td>-87.90446</td>\n",
       "      <td>2023-01-19</td>\n",
       "      <td>3.8</td>\n",
       "      <td>1.1</td>\n",
       "      <td>5.6</td>\n",
       "      <td>3.6</td>\n",
       "      <td>0.0</td>\n",
       "      <td>223.0</td>\n",
       "      <td>14.0</td>\n",
       "      <td>1000.8</td>\n",
       "      <td>ORD</td>\n",
       "    </tr>\n",
       "    <tr>\n",
       "      <th>2703520</th>\n",
       "      <td>2023-05-05</td>\n",
       "      <td>5</td>\n",
       "      <td>United Air Lines Inc.</td>\n",
       "      <td>N68453</td>\n",
       "      <td>EWR</td>\n",
       "      <td>Newark, NJ</td>\n",
       "      <td>Evening</td>\n",
       "      <td>-2</td>\n",
       "      <td>0</td>\n",
       "      <td>Low &lt;5min</td>\n",
       "      <td>BQN</td>\n",
       "      <td>Aguadilla, PR</td>\n",
       "      <td>-31</td>\n",
       "      <td>Low &lt;5min</td>\n",
       "      <td>210</td>\n",
       "      <td>Medium Haul &lt;3000Mi</td>\n",
       "      <td>0</td>\n",
       "      <td>0</td>\n",
       "      <td>0</td>\n",
       "      <td>0</td>\n",
       "      <td>0</td>\n",
       "      <td>BOEING</td>\n",
       "      <td>737 NG</td>\n",
       "      <td>12</td>\n",
       "      <td>EWR</td>\n",
       "      <td>Newark Liberty International Airport</td>\n",
       "      <td>Newark</td>\n",
       "      <td>NJ</td>\n",
       "      <td>USA</td>\n",
       "      <td>40.69250</td>\n",
       "      <td>-74.16866</td>\n",
       "      <td>2023-05-05</td>\n",
       "      <td>12.5</td>\n",
       "      <td>7.1</td>\n",
       "      <td>17.4</td>\n",
       "      <td>0.9</td>\n",
       "      <td>0.0</td>\n",
       "      <td>357.0</td>\n",
       "      <td>4.0</td>\n",
       "      <td>1021.8</td>\n",
       "      <td>EWR</td>\n",
       "    </tr>\n",
       "  </tbody>\n",
       "</table>\n",
       "</div>"
      ],
      "text/plain": [
       "        FlightDate  Day_Of_Week                 Airline Tail_Number  \\\n",
       "5680496 2023-11-07            2  American Airlines Inc.      N435AN   \n",
       "516829  2023-01-19            4   United Air Lines Inc.      N883UA   \n",
       "2703520 2023-05-05            5   United Air Lines Inc.      N68453   \n",
       "\n",
       "        Dep_Airport      Dep_CityName DepTime_label  Dep_Delay  Dep_Delay_Tag  \\\n",
       "5680496         PHL  Philadelphia, PA       Evening         58              1   \n",
       "516829          ORD       Chicago, IL     Afternoon         -5              0   \n",
       "2703520         EWR        Newark, NJ       Evening         -2              0   \n",
       "\n",
       "        Dep_Delay_Type Arr_Airport           Arr_CityName  Arr_Delay  \\\n",
       "5680496  Medium >15min         DFW  Dallas/Fort Worth, TX         62   \n",
       "516829       Low <5min         ORF            Norfolk, VA        -10   \n",
       "2703520      Low <5min         BQN          Aguadilla, PR        -31   \n",
       "\n",
       "        Arr_Delay_Type  Flight_Duration        Distance_type  Delay_Carrier  \\\n",
       "5680496   Hight >60min              238   Short Haul >1500Mi             58   \n",
       "516829       Low <5min              123   Short Haul >1500Mi              0   \n",
       "2703520      Low <5min              210  Medium Haul <3000Mi              0   \n",
       "\n",
       "         Delay_Weather  Delay_NAS  Delay_Security  Delay_LastAircraft  \\\n",
       "5680496              0          4               0                   0   \n",
       "516829               0          0               0                   0   \n",
       "2703520              0          0               0                   0   \n",
       "\n",
       "        Manufacturer   Model  Aicraft_age IATA_CODE  \\\n",
       "5680496       AIRBUS    A321            3       PHL   \n",
       "516829        AIRBUS    A319           19       ORD   \n",
       "2703520       BOEING  737 NG           12       EWR   \n",
       "\n",
       "                                      AIRPORT          CITY STATE COUNTRY  \\\n",
       "5680496    Philadelphia International Airport  Philadelphia    PA     USA   \n",
       "516829   Chicago O'Hare International Airport       Chicago    IL     USA   \n",
       "2703520  Newark Liberty International Airport        Newark    NJ     USA   \n",
       "\n",
       "         LATITUDE  LONGITUDE       time  tavg  tmin  tmax  prcp  snow   wdir  \\\n",
       "5680496  39.87195  -75.24114 2023-11-07  14.3  11.1  18.3   0.0   0.0  240.0   \n",
       "516829   41.97960  -87.90446 2023-01-19   3.8   1.1   5.6   3.6   0.0  223.0   \n",
       "2703520  40.69250  -74.16866 2023-05-05  12.5   7.1  17.4   0.9   0.0  357.0   \n",
       "\n",
       "         wspd    pres airport_id  \n",
       "5680496  14.4  1010.0        PHL  \n",
       "516829   14.0  1000.8        ORD  \n",
       "2703520   4.0  1021.8        EWR  "
      ]
     },
     "execution_count": 8,
     "metadata": {},
     "output_type": "execute_result"
    }
   ],
   "source": [
    "merged_df.sample(3)"
   ]
  },
  {
   "cell_type": "markdown",
   "metadata": {},
   "source": [
    "| Field               | Description                                               | Example                               |\n",
    "|---------------------|-----------------------------------------------------------|---------------------------------------|\n",
    "| FlightDate         | The date of the flight.                                    | 2024-09-09                           |\n",
    "| Day_Of_Week        | The day of the week when the flight occurred.              | Monday                               |\n",
    "| Airline           | The name or code of the airline operating the flight.      | AA for American Airlines             |\n",
    "| Tail_Number       | The unique identifier (registration number) of the aircraft. | N123AA                               |\n",
    "| Dep_Airport       | The IATA code of the departure airport.                    | JFK                                  |\n",
    "| Dep_CityName      | The name of the city where the departure airport is located. | New York                             |\n",
    "| DepTime_label     | The categorized or labeled departure time.                 | Morning                              |\n",
    "| Dep_Delay        | The number of minutes the flight was delayed at departure.  | 1                                   |\n",
    "| Dep_Delay_Tag    | Categorical representation of the departure delay.          | On-time                              |\n",
    "| Dep_Delay_Type   | The type or reason for the departure delay.                 | Operational                          |\n",
    "| Arr_Airport      | The IATA code of the arrival airport.                       | LAX                                  |\n",
    "| Arr_CityName     | The name of the city where the arrival airport is located.  | Los Angeles                          |\n",
    "| Arr_Delay       | The number of minutes the flight was delayed at arrival.     | 10                                   |\n",
    "| Arr_Delay_Type  | The type or reason for the arrival delay.                    | Weather                              |\n",
    "| Flight_Duration | The duration of the flight.                                  | 300 minutes                          |\n",
    "| Distance_type   | The classification of flight distance.                       | Long-haul                            |\n",
    "| Delay_Carrier   | The number of minutes the delay is attributed to the airline/carrier. | 5                          |\n",
    "| Delay_Weather   | The number of minutes the delay is attributed to weather conditions. | 10                         |\n",
    "| Delay_NAS       | The number of minutes the delay is attributed to National Airspace System issues. | 0 |\n",
    "| Delay_Security  | The number of minutes the delay is attributed to security-related issues. | 0 |\n",
    "| Delay_LastAircraft | The number of minutes the delay is attributed to delays in the aircraft's previous flight. | 20 |\n",
    "| Manufacturer    | The company that manufactured the aircraft.                   | Boeing                               |\n",
    "| Model          | The model of the aircraft.                                     | Boeing 737                           |\n",
    "| Aircraft_age   | The age of the aircraft in years.                             | 12 years                             |\n",
    "| time           | The specific time or timestamp associated with the flight record. | 12:30 PM                         |\n",
    "| tavg           | The average temperature on the day of the flight.             | 22°C                                 |\n",
    "| tmin           | The minimum temperature on the day of the flight.             | 18°C                                 |\n",
    "| tmax           | The maximum temperature on the day of the flight.             | 28°C                                 |\n",
    "| prcp           | The amount of precipitation on the day of the flight.         | 2 mm                                 |\n",
    "| snow           | The amount of snowfall on the day of the flight.              | 0 mm                                 |\n",
    "| wdir           | The wind direction.                                           | 270°                                 |\n",
    "| wspd           | The wind speed.                                               | 15 km/h                              |\n",
    "| pres           | The atmospheric pressure.                                     | 1015 hPa                             |\n",
    "| airport_id     | A unique identifier for the airport.                          | 12345                                |\n",
    "| IATA_CODE      | The International Air Transport Association code for the airport. | JFK                            |\n",
    "| AIRPORT        | The name of the airport.                                      | John F. Kennedy International Airport |\n",
    "| CITY           | The city where the airport is located.                        | New York                             |\n",
    "| STATE          | The state or region where the airport is located.             | NY                                   |\n",
    "| COUNTRY        | The country where the airport is located.                     | USA                                  |\n",
    "| LATITUDE       | The latitude coordinate of the airport.                       | 40.6413° N                           |\n",
    "| LONGITUDE      | The longitude coordinate of the airport.                      | 73.7781° W                           |\n"
   ]
  },
  {
   "cell_type": "code",
   "execution_count": 9,
   "metadata": {},
   "outputs": [],
   "source": [
    "# Dropping redundant and unnecessary columns\n",
    "merged_df.drop(columns=[\"IATA_CODE\", \"AIRPORT\", \"CITY\", \"STATE\", \"COUNTRY\", \"time\", \"airport_id\"], inplace=True)"
   ]
  },
  {
   "cell_type": "code",
   "execution_count": 10,
   "metadata": {},
   "outputs": [
    {
     "data": {
      "text/html": [
       "<div>\n",
       "<style scoped>\n",
       "    .dataframe tbody tr th:only-of-type {\n",
       "        vertical-align: middle;\n",
       "    }\n",
       "\n",
       "    .dataframe tbody tr th {\n",
       "        vertical-align: top;\n",
       "    }\n",
       "\n",
       "    .dataframe thead th {\n",
       "        text-align: right;\n",
       "    }\n",
       "</style>\n",
       "<table border=\"1\" class=\"dataframe\">\n",
       "  <thead>\n",
       "    <tr style=\"text-align: right;\">\n",
       "      <th></th>\n",
       "      <th>Day_Of_Week</th>\n",
       "      <th>Airline</th>\n",
       "      <th>Tail_Number</th>\n",
       "      <th>Dep_Airport</th>\n",
       "      <th>Dep_CityName</th>\n",
       "      <th>DepTime_label</th>\n",
       "      <th>Dep_Delay</th>\n",
       "      <th>Dep_Delay_Tag</th>\n",
       "      <th>Dep_Delay_Type</th>\n",
       "      <th>Arr_Airport</th>\n",
       "      <th>Arr_CityName</th>\n",
       "      <th>Arr_Delay</th>\n",
       "      <th>Arr_Delay_Type</th>\n",
       "      <th>Flight_Duration</th>\n",
       "      <th>Distance_type</th>\n",
       "      <th>Delay_Carrier</th>\n",
       "      <th>Delay_Weather</th>\n",
       "      <th>Delay_NAS</th>\n",
       "      <th>Delay_Security</th>\n",
       "      <th>Delay_LastAircraft</th>\n",
       "      <th>Manufacturer</th>\n",
       "      <th>Model</th>\n",
       "      <th>Aicraft_age</th>\n",
       "      <th>LATITUDE</th>\n",
       "      <th>LONGITUDE</th>\n",
       "      <th>tavg</th>\n",
       "      <th>tmin</th>\n",
       "      <th>tmax</th>\n",
       "      <th>prcp</th>\n",
       "      <th>snow</th>\n",
       "      <th>wdir</th>\n",
       "      <th>wspd</th>\n",
       "      <th>pres</th>\n",
       "      <th>Month</th>\n",
       "      <th>Day</th>\n",
       "    </tr>\n",
       "  </thead>\n",
       "  <tbody>\n",
       "    <tr>\n",
       "      <th>571578</th>\n",
       "      <td>2</td>\n",
       "      <td>American Airlines Inc.</td>\n",
       "      <td>N986NN</td>\n",
       "      <td>DFW</td>\n",
       "      <td>Dallas/Fort Worth, TX</td>\n",
       "      <td>Morning</td>\n",
       "      <td>1</td>\n",
       "      <td>1</td>\n",
       "      <td>Low &lt;5min</td>\n",
       "      <td>ABQ</td>\n",
       "      <td>Albuquerque, NM</td>\n",
       "      <td>3</td>\n",
       "      <td>Low &lt;5min</td>\n",
       "      <td>121</td>\n",
       "      <td>Short Haul &gt;1500Mi</td>\n",
       "      <td>0</td>\n",
       "      <td>0</td>\n",
       "      <td>0</td>\n",
       "      <td>0</td>\n",
       "      <td>0</td>\n",
       "      <td>BOEING</td>\n",
       "      <td>737 NG</td>\n",
       "      <td>8</td>\n",
       "      <td>32.89595</td>\n",
       "      <td>-97.03720</td>\n",
       "      <td>22.7</td>\n",
       "      <td>15.6</td>\n",
       "      <td>32.2</td>\n",
       "      <td>0.0</td>\n",
       "      <td>0.0</td>\n",
       "      <td>201.0</td>\n",
       "      <td>25.9</td>\n",
       "      <td>1003.7</td>\n",
       "      <td>2</td>\n",
       "      <td>21</td>\n",
       "    </tr>\n",
       "    <tr>\n",
       "      <th>284256</th>\n",
       "      <td>3</td>\n",
       "      <td>Southwest Airlines Co.</td>\n",
       "      <td>N8532S</td>\n",
       "      <td>LAS</td>\n",
       "      <td>Las Vegas, NV</td>\n",
       "      <td>Morning</td>\n",
       "      <td>21</td>\n",
       "      <td>1</td>\n",
       "      <td>Medium &gt;15min</td>\n",
       "      <td>BZN</td>\n",
       "      <td>Bozeman, MT</td>\n",
       "      <td>5</td>\n",
       "      <td>Low &lt;5min</td>\n",
       "      <td>114</td>\n",
       "      <td>Short Haul &gt;1500Mi</td>\n",
       "      <td>0</td>\n",
       "      <td>0</td>\n",
       "      <td>0</td>\n",
       "      <td>0</td>\n",
       "      <td>0</td>\n",
       "      <td>BOEING</td>\n",
       "      <td>737 NG</td>\n",
       "      <td>7</td>\n",
       "      <td>36.08036</td>\n",
       "      <td>-115.15233</td>\n",
       "      <td>8.2</td>\n",
       "      <td>2.8</td>\n",
       "      <td>11.1</td>\n",
       "      <td>0.0</td>\n",
       "      <td>0.0</td>\n",
       "      <td>273.0</td>\n",
       "      <td>9.4</td>\n",
       "      <td>1019.4</td>\n",
       "      <td>1</td>\n",
       "      <td>18</td>\n",
       "    </tr>\n",
       "  </tbody>\n",
       "</table>\n",
       "</div>"
      ],
      "text/plain": [
       "        Day_Of_Week                 Airline Tail_Number Dep_Airport  \\\n",
       "571578            2  American Airlines Inc.      N986NN         DFW   \n",
       "284256            3  Southwest Airlines Co.      N8532S         LAS   \n",
       "\n",
       "                 Dep_CityName DepTime_label  Dep_Delay  Dep_Delay_Tag  \\\n",
       "571578  Dallas/Fort Worth, TX       Morning          1              1   \n",
       "284256          Las Vegas, NV       Morning         21              1   \n",
       "\n",
       "       Dep_Delay_Type Arr_Airport     Arr_CityName  Arr_Delay Arr_Delay_Type  \\\n",
       "571578      Low <5min         ABQ  Albuquerque, NM          3      Low <5min   \n",
       "284256  Medium >15min         BZN      Bozeman, MT          5      Low <5min   \n",
       "\n",
       "        Flight_Duration       Distance_type  Delay_Carrier  Delay_Weather  \\\n",
       "571578              121  Short Haul >1500Mi              0              0   \n",
       "284256              114  Short Haul >1500Mi              0              0   \n",
       "\n",
       "        Delay_NAS  Delay_Security  Delay_LastAircraft Manufacturer   Model  \\\n",
       "571578          0               0                   0       BOEING  737 NG   \n",
       "284256          0               0                   0       BOEING  737 NG   \n",
       "\n",
       "        Aicraft_age  LATITUDE  LONGITUDE  tavg  tmin  tmax  prcp  snow   wdir  \\\n",
       "571578            8  32.89595  -97.03720  22.7  15.6  32.2   0.0   0.0  201.0   \n",
       "284256            7  36.08036 -115.15233   8.2   2.8  11.1   0.0   0.0  273.0   \n",
       "\n",
       "        wspd    pres  Month  Day  \n",
       "571578  25.9  1003.7      2   21  \n",
       "284256   9.4  1019.4      1   18  "
      ]
     },
     "execution_count": 10,
     "metadata": {},
     "output_type": "execute_result"
    }
   ],
   "source": [
    "# Splitting FlightDate into Day and Month columns\n",
    "merged_df['Month'] = merged_df['FlightDate'].dt.month\n",
    "merged_df['Day'] = merged_df['FlightDate'].dt.day\n",
    "merged_df.drop(columns=[\"FlightDate\"], inplace=True)\n",
    "merged_df.sample(2)\n"
   ]
  },
  {
   "cell_type": "markdown",
   "metadata": {},
   "source": [
    "#### Analysing merged_df data"
   ]
  },
  {
   "cell_type": "markdown",
   "metadata": {},
   "source": [
    "The function ```type_variables``` below analyzes the nature of the data in each column and classifies them as numerical, categorical, and \"ID-like\" features, which are categorical features represented as numbers."
   ]
  },
  {
   "cell_type": "code",
   "execution_count": 11,
   "metadata": {},
   "outputs": [
    {
     "name": "stdout",
     "output_type": "stream",
     "text": [
      "Numerical features: ['Day_Of_Week', 'Dep_Delay', 'Dep_Delay_Tag', 'Arr_Delay', 'Flight_Duration', 'Delay_Carrier', 'Delay_Weather', 'Delay_NAS', 'Delay_Security', 'Delay_LastAircraft', 'Aicraft_age', 'LATITUDE', 'LONGITUDE', 'tavg', 'tmin', 'tmax', 'prcp', 'snow', 'wdir', 'wspd', 'pres', 'Month', 'Day']\n",
      "Categorical features: ['Airline', 'Tail_Number', 'Dep_Airport', 'Dep_CityName', 'DepTime_label', 'Dep_Delay_Type', 'Arr_Airport', 'Arr_CityName', 'Arr_Delay_Type', 'Distance_type', 'Manufacturer', 'Model']\n",
      "ID features (numeric categoricals): []\n"
     ]
    }
   ],
   "source": [
    "features_num, features_cat, features_id = type_features(merged_df)\n",
    "\n",
    "print(\"Numerical features:\", features_num)\n",
    "print(\"Categorical features:\", features_cat)\n",
    "print(\"ID features (numeric categoricals):\", features_id)"
   ]
  },
  {
   "cell_type": "markdown",
   "metadata": {},
   "source": [
    "Select only logistical variables available in advance + weather forecasts."
   ]
  },
  {
   "cell_type": "code",
   "execution_count": 12,
   "metadata": {},
   "outputs": [],
   "source": [
    "features_num = ['Day_Of_Week', 'Flight_Duration', 'Aicraft_age', 'Delay_LastAircraft', \n",
    "                'LATITUDE', 'LONGITUDE', 'tavg', 'tmin', 'tmax', 'prcp', 'snow', 'wdir', 'wspd', 'pres', 'Month', 'Day']\n",
    "\n",
    "features_cat = [\"Airline\", \"Tail_Number\", \"Dep_Airport\", \"DepTime_label\", \"Arr_Airport\", \"Distance_type\", \n",
    "                \"Manufacturer\", \"Model\", ]\n",
    "\n",
    "features_id = []\n",
    "\n",
    "categorical_features = features_cat\n"
   ]
  },
  {
   "cell_type": "markdown",
   "metadata": {},
   "source": [
    "| Field            | Description                                           | Example                               |\n",
    "|------------------|-------------------------------------------------------|---------------------------------------|\n",
    "| Day_Of_Week     | The day of the week when the flight occurred.         | Monday                               |\n",
    "| Flight_Duration | The duration of the flight.                           | 300 minutes                          |\n",
    "| Aircraft_age    | The age of the aircraft in years.                     | 12 years                             |\n",
    "| Airline         | The name or code of the airline operating the flight. | AA for American Airlines             |\n",
    "| Tail_Number     | The unique identifier of the aircraft.                | N123AA                               |\n",
    "| Dep_Airport     | The IATA code of the departure airport.               | JFK                                  |\n",
    "| DepTime_label   | The categorized or labeled departure time.            | Morning                              |\n",
    "| Arr_Airport     | The IATA code of the arrival airport.                 | LAX                                  |\n",
    "| Distance_type   | The classification of flight distance.                | Long-haul                            |\n",
    "| Manufacturer    | The company that manufactured the aircraft.           | Boeing                               |\n",
    "| Model          | The model of the aircraft.                             | Boeing 737                           |\n",
    "| LATITUDE        | The latitude coordinate of the airport.               | 40.6413° N                           |\n",
    "| LONGITUDE       | The longitude coordinate of the airport.              | 73.7781° W                           |\n",
    "| tavg            | The average temperature on the day of the flight.     | 22°C                                 |\n",
    "| tmin            | The minimum temperature on the day of the flight.     | 18°C                                 |\n",
    "| tmax            | The maximum temperature on the day of the flight.     | 28°C                                 |\n",
    "| prcp            | The amount of precipitation on the day of the flight. | 2 mm                                 |\n",
    "| snow            | The amount of snowfall on the day of the flight.      | 0 mm                                 |\n",
    "| wdir            | The wind direction.                                   | 270°                                 |\n",
    "| wspd            | The wind speed.                                       | 15 km/h                              |\n",
    "| pres            | The atmospheric pressure.                             | 1015 hPa                             |\n",
    "\n"
   ]
  },
  {
   "cell_type": "markdown",
   "metadata": {},
   "source": [
    "Declaring target for binary classification of departure delay"
   ]
  },
  {
   "cell_type": "code",
   "execution_count": 13,
   "metadata": {},
   "outputs": [],
   "source": [
    "target_class = \"Dep_Delay_Tag\""
   ]
  },
  {
   "cell_type": "code",
   "execution_count": 14,
   "metadata": {},
   "outputs": [
    {
     "data": {
      "text/plain": [
       "Day_Of_Week           0\n",
       "Flight_Duration       0\n",
       "Aicraft_age           0\n",
       "Delay_LastAircraft    0\n",
       "LATITUDE              0\n",
       "LONGITUDE             0\n",
       "tavg                  0\n",
       "tmin                  0\n",
       "tmax                  0\n",
       "prcp                  0\n",
       "snow                  0\n",
       "wdir                  0\n",
       "wspd                  0\n",
       "pres                  0\n",
       "Month                 0\n",
       "Day                   0\n",
       "Airline               0\n",
       "Tail_Number           0\n",
       "Dep_Airport           0\n",
       "DepTime_label         0\n",
       "Arr_Airport           0\n",
       "Distance_type         0\n",
       "Manufacturer          0\n",
       "Model                 0\n",
       "Dep_Delay_Tag         0\n",
       "dtype: int64"
      ]
     },
     "execution_count": 14,
     "metadata": {},
     "output_type": "execute_result"
    }
   ],
   "source": [
    "# Counting nulls\n",
    "df = merged_df[features_num + features_cat + [target_class]].copy()\n",
    "df.isnull().sum()"
   ]
  },
  {
   "cell_type": "code",
   "execution_count": 15,
   "metadata": {},
   "outputs": [
    {
     "data": {
      "text/plain": [
       "Dep_Delay_Tag\n",
       "0    0.620999\n",
       "1    0.379001\n",
       "Name: proportion, dtype: float64"
      ]
     },
     "execution_count": 15,
     "metadata": {},
     "output_type": "execute_result"
    }
   ],
   "source": [
    "# Looking for the target proportion\n",
    "df[target_class].value_counts(normalize=True)"
   ]
  },
  {
   "cell_type": "markdown",
   "metadata": {},
   "source": [
    "Randomly reducing the dataset to 25% size for computational performance during the following modeling processes"
   ]
  },
  {
   "cell_type": "code",
   "execution_count": 16,
   "metadata": {},
   "outputs": [
    {
     "name": "stdout",
     "output_type": "stream",
     "text": [
      "Original Dataset size: 6743404\n",
      "Dataset size after subsampling: 1685851\n"
     ]
    }
   ],
   "source": [
    "from sklearn.utils import resample\n",
    "\n",
    "# Random subsampling\n",
    "data_sample = resample(df, replace=False, n_samples=int(len(df) * 0.25), random_state=42)\n",
    "\n",
    "print(\"Original Dataset size:\", len(df))\n",
    "print(\"Dataset size after subsampling:\", len(data_sample))"
   ]
  },
  {
   "cell_type": "markdown",
   "metadata": {},
   "source": [
    "### Target Encoding with K-Fold\n",
    "\n",
    "The **`target_encoding_kfold`** function applies **Target Encoding** with **K-Fold Cross Validation** to prevent **data leakage** during training, ensuring the model only learns from training data.\n",
    "\n",
    "---\n",
    "\n",
    "#### Key Steps:\n",
    "\n",
    "1. **K-Fold Validation**:\n",
    "   - Splits the training data into **n_splits** (default 5) using **StratifiedKFold** to ensure balanced target distribution.\n",
    "   - Prevents **data leakage** by ensuring encoding is only based on training data.\n",
    "\n",
    "2. **Resetting Indices**:\n",
    "   - Resets indices in both train and validation sets to avoid **index misalignment** when applying target encoding.\n",
    "\n",
    "3. **Smoothing**:\n",
    "   - Calculates the category mean with a smoothing technique that combines the category mean with the global mean to handle sparse categories.\n",
    "\n",
    "4. **Mapping and Handling Unseen Categories**:\n",
    "   - Categories in validation and test sets are **mapped** to the calculated target mean; missing categories are assigned the **global mean** to avoid errors.\n",
    "\n",
    "---\n",
    "\n",
    "#### Why K-Fold?\n",
    "\n",
    "- **K-Fold** ensures that encoding is done only with training data, preventing future data from contaminating the model and causing **data leakage**.\n",
    "\n",
    "---\n",
    "\n",
    "This approach guarantees **robust target encoding**, preserves model integrity, and prevents **overfitting**.\n"
   ]
  },
  {
   "cell_type": "markdown",
   "metadata": {},
   "source": [
    "Dividing train and test set"
   ]
  },
  {
   "cell_type": "code",
   "execution_count": 17,
   "metadata": {},
   "outputs": [
    {
     "name": "stdout",
     "output_type": "stream",
     "text": [
      "(1348680, 25)\n",
      "(337171, 25)\n"
     ]
    }
   ],
   "source": [
    "from sklearn.model_selection import train_test_split\n",
    "\n",
    "train_set, test_set = train_test_split(data_sample, test_size=0.2, random_state=42)\n",
    "print(train_set.shape)\n",
    "print(test_set.shape)"
   ]
  },
  {
   "cell_type": "markdown",
   "metadata": {},
   "source": [
    "The following cell counts how many categorical values exist in the test set but not in the train set. High values may indicate issues for target encoding strategy, as unseen values in the test set will be assigned the global mean."
   ]
  },
  {
   "cell_type": "code",
   "execution_count": 18,
   "metadata": {},
   "outputs": [
    {
     "data": {
      "text/html": [
       "<div>\n",
       "<style scoped>\n",
       "    .dataframe tbody tr th:only-of-type {\n",
       "        vertical-align: middle;\n",
       "    }\n",
       "\n",
       "    .dataframe tbody tr th {\n",
       "        vertical-align: top;\n",
       "    }\n",
       "\n",
       "    .dataframe thead th {\n",
       "        text-align: right;\n",
       "    }\n",
       "</style>\n",
       "<table border=\"1\" class=\"dataframe\">\n",
       "  <thead>\n",
       "    <tr style=\"text-align: right;\">\n",
       "      <th></th>\n",
       "      <th>Airline</th>\n",
       "      <th>Tail_Number</th>\n",
       "      <th>Dep_Airport</th>\n",
       "      <th>DepTime_label</th>\n",
       "      <th>Arr_Airport</th>\n",
       "      <th>Distance_type</th>\n",
       "      <th>Manufacturer</th>\n",
       "      <th>Model</th>\n",
       "    </tr>\n",
       "  </thead>\n",
       "  <tbody>\n",
       "    <tr>\n",
       "      <th>unique</th>\n",
       "      <td>0</td>\n",
       "      <td>2</td>\n",
       "      <td>0</td>\n",
       "      <td>0</td>\n",
       "      <td>0</td>\n",
       "      <td>0</td>\n",
       "      <td>0</td>\n",
       "      <td>0</td>\n",
       "    </tr>\n",
       "    <tr>\n",
       "      <th>absolute</th>\n",
       "      <td>0</td>\n",
       "      <td>2</td>\n",
       "      <td>0</td>\n",
       "      <td>0</td>\n",
       "      <td>0</td>\n",
       "      <td>0</td>\n",
       "      <td>0</td>\n",
       "      <td>0</td>\n",
       "    </tr>\n",
       "  </tbody>\n",
       "</table>\n",
       "</div>"
      ],
      "text/plain": [
       "          Airline  Tail_Number  Dep_Airport  DepTime_label  Arr_Airport  \\\n",
       "unique          0            2            0              0            0   \n",
       "absolute        0            2            0              0            0   \n",
       "\n",
       "          Distance_type  Manufacturer  Model  \n",
       "unique                0             0      0  \n",
       "absolute              0             0      0  "
      ]
     },
     "execution_count": 18,
     "metadata": {},
     "output_type": "execute_result"
    }
   ],
   "source": [
    "# Check non correspondenting values in test set/train set\n",
    "non_correspondence = {col: {'unique': [], 'absolute': []} for col in categorical_features}\n",
    "\n",
    "# Iterate over the categorical columns\n",
    "for col in categorical_features:\n",
    "    # Identify unique values in test_set that are not in train_set\n",
    "    test_values = set(test_set[col])\n",
    "    train_values = set(train_set[col])\n",
    "    \n",
    "    # Values in test_set but not in train_set\n",
    "    non_matching_values = test_values - train_values\n",
    "    \n",
    "    # Count the number of unique values and the absolute count of these values\n",
    "    non_correspondence[col]['unique'] = len(non_matching_values)\n",
    "    non_correspondence[col]['absolute'] = sum(test_set[col].isin(non_matching_values))\n",
    "    \n",
    "# Convert the dictionary to a DataFrame\n",
    "non_correspondence_df = pd.DataFrame(non_correspondence)\n",
    "non_correspondence_df\n",
    "\n"
   ]
  },
  {
   "cell_type": "code",
   "execution_count": 19,
   "metadata": {},
   "outputs": [
    {
     "name": "stdout",
     "output_type": "stream",
     "text": [
      "Encoded columns by target_encoding_kfold: ['Airline_te', 'Tail_Number_te', 'Dep_Airport_te', 'DepTime_label_te', 'Arr_Airport_te', 'Distance_type_te', 'Manufacturer_te', 'Model_te']\n"
     ]
    }
   ],
   "source": [
    "train_encoded, test_encoded, encoded_columns = target_encoding_kfold(train_set, test_set, categorical_features, target_class, n_splits=5, smoothing=0.3, seed=42)\n",
    "\n",
    "print(\"Encoded columns by target_encoding_kfold:\", encoded_columns)\n"
   ]
  },
  {
   "cell_type": "markdown",
   "metadata": {},
   "source": [
    "Randomly reducing the train_set to 25% size for computational performance during the following modeling process."
   ]
  },
  {
   "cell_type": "code",
   "execution_count": 20,
   "metadata": {},
   "outputs": [
    {
     "name": "stdout",
     "output_type": "stream",
     "text": [
      "Original train_set size: 1348680\n",
      "Train_set size after subsampling: 337170\n"
     ]
    }
   ],
   "source": [
    "# Random subsampling: reduces the training set size to 50%\n",
    "from sklearn.utils import resample\n",
    "\n",
    "train_set_subsampled = resample(train_encoded, replace=False, n_samples=int(len(train_set) * 0.25), random_state=42)\n",
    "\n",
    "print(\"Original train_set size:\", len(train_set))\n",
    "print(\"Train_set size after subsampling:\", len(train_set_subsampled))"
   ]
  },
  {
   "cell_type": "code",
   "execution_count": 21,
   "metadata": {},
   "outputs": [
    {
     "data": {
      "text/html": [
       "<div>\n",
       "<style scoped>\n",
       "    .dataframe tbody tr th:only-of-type {\n",
       "        vertical-align: middle;\n",
       "    }\n",
       "\n",
       "    .dataframe tbody tr th {\n",
       "        vertical-align: top;\n",
       "    }\n",
       "\n",
       "    .dataframe thead th {\n",
       "        text-align: right;\n",
       "    }\n",
       "</style>\n",
       "<table border=\"1\" class=\"dataframe\">\n",
       "  <thead>\n",
       "    <tr style=\"text-align: right;\">\n",
       "      <th></th>\n",
       "      <th>Day_Of_Week</th>\n",
       "      <th>Flight_Duration</th>\n",
       "      <th>Aicraft_age</th>\n",
       "      <th>Delay_LastAircraft</th>\n",
       "      <th>LATITUDE</th>\n",
       "      <th>LONGITUDE</th>\n",
       "      <th>tavg</th>\n",
       "      <th>tmin</th>\n",
       "      <th>tmax</th>\n",
       "      <th>prcp</th>\n",
       "      <th>snow</th>\n",
       "      <th>wdir</th>\n",
       "      <th>wspd</th>\n",
       "      <th>pres</th>\n",
       "      <th>Month</th>\n",
       "      <th>Day</th>\n",
       "      <th>Dep_Delay_Tag</th>\n",
       "      <th>Airline_te</th>\n",
       "      <th>Tail_Number_te</th>\n",
       "      <th>Dep_Airport_te</th>\n",
       "      <th>DepTime_label_te</th>\n",
       "      <th>Arr_Airport_te</th>\n",
       "      <th>Distance_type_te</th>\n",
       "      <th>Manufacturer_te</th>\n",
       "      <th>Model_te</th>\n",
       "    </tr>\n",
       "  </thead>\n",
       "  <tbody>\n",
       "    <tr>\n",
       "      <th>3459562</th>\n",
       "      <td>4</td>\n",
       "      <td>186</td>\n",
       "      <td>9</td>\n",
       "      <td>0</td>\n",
       "      <td>27.97547</td>\n",
       "      <td>-82.53325</td>\n",
       "      <td>29.2</td>\n",
       "      <td>26.1</td>\n",
       "      <td>34.4</td>\n",
       "      <td>0.8</td>\n",
       "      <td>0.0</td>\n",
       "      <td>298.0</td>\n",
       "      <td>6.5</td>\n",
       "      <td>1019.0</td>\n",
       "      <td>7</td>\n",
       "      <td>20</td>\n",
       "      <td>0</td>\n",
       "      <td>0.333794</td>\n",
       "      <td>0.29085</td>\n",
       "      <td>0.393006</td>\n",
       "      <td>0.278776</td>\n",
       "      <td>0.289892</td>\n",
       "      <td>0.369954</td>\n",
       "      <td>0.428473</td>\n",
       "      <td>0.435724</td>\n",
       "    </tr>\n",
       "    <tr>\n",
       "      <th>1208263</th>\n",
       "      <td>1</td>\n",
       "      <td>208</td>\n",
       "      <td>10</td>\n",
       "      <td>0</td>\n",
       "      <td>37.61900</td>\n",
       "      <td>-122.37484</td>\n",
       "      <td>9.7</td>\n",
       "      <td>4.4</td>\n",
       "      <td>16.7</td>\n",
       "      <td>0.0</td>\n",
       "      <td>0.0</td>\n",
       "      <td>324.0</td>\n",
       "      <td>11.5</td>\n",
       "      <td>1022.3</td>\n",
       "      <td>3</td>\n",
       "      <td>27</td>\n",
       "      <td>0</td>\n",
       "      <td>0.333794</td>\n",
       "      <td>0.36725</td>\n",
       "      <td>0.380912</td>\n",
       "      <td>0.226642</td>\n",
       "      <td>0.289892</td>\n",
       "      <td>0.432037</td>\n",
       "      <td>0.428473</td>\n",
       "      <td>0.435724</td>\n",
       "    </tr>\n",
       "  </tbody>\n",
       "</table>\n",
       "</div>"
      ],
      "text/plain": [
       "         Day_Of_Week  Flight_Duration  Aicraft_age  Delay_LastAircraft  \\\n",
       "3459562            4              186            9                   0   \n",
       "1208263            1              208           10                   0   \n",
       "\n",
       "         LATITUDE  LONGITUDE  tavg  tmin  tmax  prcp  snow   wdir  wspd  \\\n",
       "3459562  27.97547  -82.53325  29.2  26.1  34.4   0.8   0.0  298.0   6.5   \n",
       "1208263  37.61900 -122.37484   9.7   4.4  16.7   0.0   0.0  324.0  11.5   \n",
       "\n",
       "           pres  Month  Day  Dep_Delay_Tag  Airline_te  Tail_Number_te  \\\n",
       "3459562  1019.0      7   20              0    0.333794         0.29085   \n",
       "1208263  1022.3      3   27              0    0.333794         0.36725   \n",
       "\n",
       "         Dep_Airport_te  DepTime_label_te  Arr_Airport_te  Distance_type_te  \\\n",
       "3459562        0.393006          0.278776        0.289892          0.369954   \n",
       "1208263        0.380912          0.226642        0.289892          0.432037   \n",
       "\n",
       "         Manufacturer_te  Model_te  \n",
       "3459562         0.428473  0.435724  \n",
       "1208263         0.428473  0.435724  "
      ]
     },
     "execution_count": 21,
     "metadata": {},
     "output_type": "execute_result"
    }
   ],
   "source": [
    "train_set_subsampled.sample(2)"
   ]
  },
  {
   "cell_type": "code",
   "execution_count": 22,
   "metadata": {},
   "outputs": [
    {
     "name": "stdout",
     "output_type": "stream",
     "text": [
      "X_train_encoded: (337170, 24)\n",
      "y_train: (337170,)\n",
      "\n",
      "X_test_encoded: (337171, 24)\n",
      "y_test: (337171,)\n"
     ]
    }
   ],
   "source": [
    "# Dividing X and y, train and test\n",
    "X_train_encoded = train_set_subsampled[features_num + encoded_columns].copy()\n",
    "X_test_encoded = test_encoded[features_num + encoded_columns].copy()\n",
    "y_train = train_set_subsampled[target_class]\n",
    "y_test = test_encoded[target_class]\n",
    "\n",
    "#Resetting the index of all DataFrames to prevent misalignment\n",
    "X_train_encoded = X_train_encoded.reset_index(drop=True)\n",
    "X_test_encoded = X_test_encoded.reset_index(drop=True)\n",
    "y_train = y_train.reset_index(drop=True)\n",
    "y_test = y_test.reset_index(drop=True)\n",
    "\n",
    "\n",
    "print(\"X_train_encoded:\", X_train_encoded.shape)\n",
    "print(\"y_train:\", y_train.shape)\n",
    "\n",
    "print(\"\\nX_test_encoded:\", X_test_encoded.shape)\n",
    "print(\"y_test:\",y_test.shape)"
   ]
  },
  {
   "cell_type": "markdown",
   "metadata": {},
   "source": [
    "#### StandartScaling"
   ]
  },
  {
   "cell_type": "markdown",
   "metadata": {},
   "source": [
    "The standardization of the DataFrame will be used for statistical tests and feature selection, as well as for scale-sensitive analyses."
   ]
  },
  {
   "cell_type": "code",
   "execution_count": 23,
   "metadata": {},
   "outputs": [],
   "source": [
    "X_train_scaled, X_test_scaled = scale_features(X_train_encoded, X_test_encoded)"
   ]
  },
  {
   "cell_type": "code",
   "execution_count": 24,
   "metadata": {},
   "outputs": [
    {
     "data": {
      "text/html": [
       "<div>\n",
       "<style scoped>\n",
       "    .dataframe tbody tr th:only-of-type {\n",
       "        vertical-align: middle;\n",
       "    }\n",
       "\n",
       "    .dataframe tbody tr th {\n",
       "        vertical-align: top;\n",
       "    }\n",
       "\n",
       "    .dataframe thead th {\n",
       "        text-align: right;\n",
       "    }\n",
       "</style>\n",
       "<table border=\"1\" class=\"dataframe\">\n",
       "  <thead>\n",
       "    <tr style=\"text-align: right;\">\n",
       "      <th></th>\n",
       "      <th>Day_Of_Week</th>\n",
       "      <th>Flight_Duration</th>\n",
       "      <th>Aicraft_age</th>\n",
       "      <th>Delay_LastAircraft</th>\n",
       "      <th>LATITUDE</th>\n",
       "      <th>LONGITUDE</th>\n",
       "      <th>tavg</th>\n",
       "      <th>tmin</th>\n",
       "      <th>tmax</th>\n",
       "      <th>prcp</th>\n",
       "      <th>snow</th>\n",
       "      <th>wdir</th>\n",
       "      <th>wspd</th>\n",
       "      <th>pres</th>\n",
       "      <th>Month</th>\n",
       "      <th>Day</th>\n",
       "      <th>Airline_te</th>\n",
       "      <th>Tail_Number_te</th>\n",
       "      <th>Dep_Airport_te</th>\n",
       "      <th>DepTime_label_te</th>\n",
       "      <th>Arr_Airport_te</th>\n",
       "      <th>Distance_type_te</th>\n",
       "      <th>Manufacturer_te</th>\n",
       "      <th>Model_te</th>\n",
       "    </tr>\n",
       "  </thead>\n",
       "  <tbody>\n",
       "    <tr>\n",
       "      <th>64941</th>\n",
       "      <td>-1.488966</td>\n",
       "      <td>-0.30637</td>\n",
       "      <td>0.195205</td>\n",
       "      <td>-0.187654</td>\n",
       "      <td>-0.227348</td>\n",
       "      <td>0.744132</td>\n",
       "      <td>-1.031143</td>\n",
       "      <td>-1.46667</td>\n",
       "      <td>-1.076789</td>\n",
       "      <td>-0.301842</td>\n",
       "      <td>-0.103107</td>\n",
       "      <td>0.944269</td>\n",
       "      <td>0.533791</td>\n",
       "      <td>-0.035749</td>\n",
       "      <td>-1.641159</td>\n",
       "      <td>0.827345</td>\n",
       "      <td>-0.016534</td>\n",
       "      <td>0.337929</td>\n",
       "      <td>0.051492</td>\n",
       "      <td>0.595651</td>\n",
       "      <td>1.91786</td>\n",
       "      <td>-0.382459</td>\n",
       "      <td>0.400996</td>\n",
       "      <td>0.479142</td>\n",
       "    </tr>\n",
       "  </tbody>\n",
       "</table>\n",
       "</div>"
      ],
      "text/plain": [
       "       Day_Of_Week  Flight_Duration  Aicraft_age  Delay_LastAircraft  \\\n",
       "64941    -1.488966         -0.30637     0.195205           -0.187654   \n",
       "\n",
       "       LATITUDE  LONGITUDE      tavg     tmin      tmax      prcp      snow  \\\n",
       "64941 -0.227348   0.744132 -1.031143 -1.46667 -1.076789 -0.301842 -0.103107   \n",
       "\n",
       "           wdir      wspd      pres     Month       Day  Airline_te  \\\n",
       "64941  0.944269  0.533791 -0.035749 -1.641159  0.827345   -0.016534   \n",
       "\n",
       "       Tail_Number_te  Dep_Airport_te  DepTime_label_te  Arr_Airport_te  \\\n",
       "64941        0.337929        0.051492          0.595651         1.91786   \n",
       "\n",
       "       Distance_type_te  Manufacturer_te  Model_te  \n",
       "64941         -0.382459         0.400996  0.479142  "
      ]
     },
     "execution_count": 24,
     "metadata": {},
     "output_type": "execute_result"
    }
   ],
   "source": [
    "X_train_scaled.sample()"
   ]
  },
  {
   "cell_type": "markdown",
   "metadata": {},
   "source": [
    "### Feature Selection with ANOVA e FSTS"
   ]
  },
  {
   "cell_type": "markdown",
   "metadata": {},
   "source": [
    "Selection of variables with high statistical significance in relation to the target (p-value < 0.01)"
   ]
  },
  {
   "cell_type": "code",
   "execution_count": 25,
   "metadata": {},
   "outputs": [
    {
     "name": "stdout",
     "output_type": "stream",
     "text": [
      "Selected Features after ANOVA: ['Day_Of_Week', 'Flight_Duration', 'Delay_LastAircraft', 'LATITUDE', 'LONGITUDE', 'tavg', 'tmin', 'tmax', 'prcp', 'wdir', 'wspd', 'pres', 'Month', 'Day', 'Airline_te', 'Tail_Number_te', 'Dep_Airport_te', 'DepTime_label_te', 'Arr_Airport_te', 'Distance_type_te', 'Manufacturer_te', 'Model_te']\n"
     ]
    }
   ],
   "source": [
    "# ANOVA\n",
    "\n",
    "from sklearn.feature_selection import f_classif\n",
    "\n",
    "# Perform ANOVA on training data\n",
    "f_scores, p_values = f_classif(X_train_scaled, y_train)\n",
    "\n",
    "# Store results in a DataFrame\n",
    "anova_results = pd.DataFrame({\"Feature\": X_train_scaled.columns, \"F-Score\": f_scores, \"p-value\": p_values})\n",
    "\n",
    "# Select features with p-value < 0.05\n",
    "selected_features_anova = anova_results[anova_results[\"p-value\"] < 0.01][\"Feature\"].tolist()\n",
    "\n",
    "print(\"Selected Features after ANOVA:\", selected_features_anova)"
   ]
  },
  {
   "cell_type": "markdown",
   "metadata": {},
   "source": [
    "Exclude highly correlated and redundant columns (corr > 0.7). \n",
    "\n",
    "To select which of the correlated columns will be kept, a correlation analysis with respect to the target will be performed to retain the variable most related to class 1."
   ]
  },
  {
   "cell_type": "code",
   "execution_count": 26,
   "metadata": {},
   "outputs": [
    {
     "name": "stdout",
     "output_type": "stream",
     "text": [
      "Features to be dropped due to high correlation: ['Manufacturer_te', 'tavg', 'Airline_te', 'Distance_type_te', 'tmax', 'Model_te']\n",
      "Selected Features after FSTS: ['Day_Of_Week', 'Flight_Duration', 'Delay_LastAircraft', 'LATITUDE', 'LONGITUDE', 'tmin', 'prcp', 'wdir', 'wspd', 'pres', 'Month', 'Day', 'Tail_Number_te', 'Dep_Airport_te', 'DepTime_label_te', 'Arr_Airport_te']\n"
     ]
    }
   ],
   "source": [
    "# FSTS\n",
    "\n",
    "# Compute the correlation matrix using ANOVA-selected features\n",
    "corr_matrix = X_train_scaled[selected_features_anova].corr().abs()\n",
    "\n",
    "# Calculate the correlation of each feature with the target variable\n",
    "correlation_with_target = X_train_scaled[selected_features_anova].corrwith(y_train).abs()\n",
    "\n",
    "# Initialize a list to store features to drop\n",
    "to_drop = []\n",
    "\n",
    "# Iterate through the correlation matrix to identify highly correlated features\n",
    "upper = np.triu(corr_matrix, k=1)  # Upper triangle of the correlation matrix\n",
    "\n",
    "for column in corr_matrix.columns:\n",
    "    # Check if any other feature is highly correlated with the current column\n",
    "    correlated_columns = corr_matrix.columns[upper[:, corr_matrix.columns.get_loc(column)] > 0.7]\n",
    "    \n",
    "    for correlated_column in correlated_columns:\n",
    "        # Compare correlation with the target variable (y_train)\n",
    "        if correlation_with_target[column] >= correlation_with_target[correlated_column]:\n",
    "            # Drop the correlated column if the current column is more correlated with the target\n",
    "            to_drop.append(correlated_column)\n",
    "        else:\n",
    "            # Otherwise, drop the current column\n",
    "            to_drop.append(column)\n",
    "\n",
    "# Remove duplicates from the list of features to drop\n",
    "to_drop = list(set(to_drop))\n",
    "\n",
    "# Print the features that are being dropped due to high correlation with each other\n",
    "print(\"Features to be dropped due to high correlation:\", to_drop)\n",
    "\n",
    "# Final feature selection after FSTS, keeping the variables that are not dropped\n",
    "selected_features_fsts = [f for f in selected_features_anova if f not in to_drop]\n",
    "\n",
    "print(\"Selected Features after FSTS:\", selected_features_fsts)\n"
   ]
  },
  {
   "cell_type": "code",
   "execution_count": 27,
   "metadata": {},
   "outputs": [],
   "source": [
    "X_train_selected = X_train_scaled[selected_features_fsts].copy()\n",
    "X_test_selected = X_test_scaled[selected_features_fsts].copy()\n",
    "\n",
    "X_train_encoded = X_train_encoded[selected_features_fsts].copy()\n",
    "X_test_encoded = X_test_encoded[selected_features_fsts].copy()"
   ]
  },
  {
   "cell_type": "markdown",
   "metadata": {},
   "source": [
    "| DataFrame |    Content   |\n",
    "| --------- | ----------- |\n",
    "| X_train_selected |  Scaled X_train with selected features   |\n",
    "| X_test_selected |   Scaled X_test with selected features  |\n",
    "|            |            |\n",
    "| X_train_encoded |   Non-scaled X_train with the selected features    |\n",
    "| X_test_encoded |    Non-scaled X_test with the selected features   |"
   ]
  },
  {
   "cell_type": "markdown",
   "metadata": {},
   "source": [
    "### Clustering"
   ]
  },
  {
   "cell_type": "markdown",
   "metadata": {},
   "source": [
    "https://www.nature.com/articles/s41598-024-55217-z"
   ]
  },
  {
   "cell_type": "code",
   "execution_count": 28,
   "metadata": {},
   "outputs": [],
   "source": [
    "# import hdbscan\n",
    "# import umap\n",
    "\n",
    "\n",
    "# X_train_cluster = X_train_selected.copy()\n",
    "# X_test_cluster = X_test_selected.copy()\n",
    "\n",
    "# # Creating the HDBSCAN model\n",
    "# clusterer = hdbscan.HDBSCAN(min_cluster_size=1000, min_samples=10, cluster_selection_epsilon=0.1, prediction_data=True, core_dist_n_jobs=-1)\n",
    "\n",
    "# # Fitting and predicting the clusters\n",
    "# cluster_labels = clusterer.fit_predict(X_train_selected)\n",
    "# clusterer.generate_prediction_data()  # Ensures that the prediction data is stored correctly\n",
    "\n",
    "# # Adding the labels to the dataframe\n",
    "# X_train_cluster['cluster_label'] = cluster_labels\n",
    "\n",
    "# # Predicting the clusters for the test data\n",
    "# cluster_labels_test, strengths = hdbscan.approximate_predict(clusterer, X_test_selected)\n",
    "\n",
    "# X_test_cluster['cluster_label'] = cluster_labels_test\n",
    "# X_test_cluster['cluster_confidence'] = strengths  # Probability of belonging to the cluster\n",
    "\n",
    "# # Dimensionality reduction for visualization\n",
    "# reducer = umap.UMAP(n_neighbors=15, min_dist=0.1, n_components=2, random_state=42, transform_seed=42)\n",
    "# X_umap = reducer.fit_transform(X_train_selected)\n",
    "# X_test_umap = reducer.transform(X_test_selected)\n",
    "\n",
    "# # Creating DataFrame for visualization\n",
    "# viz_df = pd.DataFrame(X_umap, columns=['UMAP1', 'UMAP2'])\n",
    "# viz_df['cluster_label'] = cluster_labels\n",
    "\n",
    "# # Plotting the clusters\n",
    "# plt.figure(figsize=(10, 6))\n",
    "# sns.scatterplot(data=viz_df, x='UMAP1', y='UMAP2', hue='cluster_label', palette='tab10', alpha=0.6)\n",
    "# plt.title('Clusters Identified by HDBSCAN')\n",
    "# plt.legend(title='Cluster')\n",
    "# plt.show()\n",
    "\n"
   ]
  },
  {
   "cell_type": "code",
   "execution_count": 29,
   "metadata": {},
   "outputs": [],
   "source": [
    "# from sklearn.metrics import silhouette_samples, silhouette_score\n",
    "\n",
    "# # Filter only the points assigned to clusters (remove outliers -1)\n",
    "# filtered_mask = cluster_labels != -1\n",
    "# filtered_labels = cluster_labels[filtered_mask]\n",
    "# filtered_X = X_train_selected[filtered_mask]\n",
    "\n",
    "# # Calculate the silhouette score\n",
    "# silhouette_vals = silhouette_samples(filtered_X, filtered_labels)\n",
    "# silhouette_avg = silhouette_score(filtered_X, filtered_labels)\n",
    "\n",
    "# # Calling the function to plot\n",
    "# plot_silhouette(filtered_X, filtered_labels)\n",
    "\n"
   ]
  },
  {
   "cell_type": "code",
   "execution_count": 30,
   "metadata": {},
   "outputs": [],
   "source": [
    "# # Saving Data\n",
    "\n",
    "# X_train_cluster.to_csv(\"./src/processed_data/X_train_cluster.csv\", index=False)\n",
    "# X_test_cluster.to_csv(\"./src/processed_data/X_test_cluster.csv\", index=False)"
   ]
  },
  {
   "cell_type": "code",
   "execution_count": 31,
   "metadata": {},
   "outputs": [],
   "source": [
    "# # Loading Data\n",
    "\n",
    "# X_train_cluster = pd.read_csv(\"./src/processed_data/X_train_cluster.csv\")\n",
    "# X_test_cluster = pd.read_csv(\"./src/processed_data/X_test_cluster.csv\")"
   ]
  },
  {
   "cell_type": "code",
   "execution_count": 32,
   "metadata": {},
   "outputs": [],
   "source": [
    "# # Number of train_set values assigned to each cluster\n",
    "# X_train_cluster['cluster_label'].value_counts()"
   ]
  },
  {
   "cell_type": "code",
   "execution_count": 33,
   "metadata": {},
   "outputs": [],
   "source": [
    "# # Number of test_set values assigned to each cluster\n",
    "# X_test_cluster['cluster_label'].value_counts()"
   ]
  },
  {
   "cell_type": "code",
   "execution_count": 34,
   "metadata": {},
   "outputs": [],
   "source": [
    "# # Average of the probabilities calculated for each cluster of the test_set through approximate_predict\n",
    "# cluster_means = X_test_cluster.groupby('cluster_label')['cluster_confidence'].mean()\n",
    "# print(cluster_means)"
   ]
  },
  {
   "cell_type": "code",
   "execution_count": 35,
   "metadata": {},
   "outputs": [],
   "source": [
    "# X_test_cluster.drop(columns='cluster_confidence', inplace=True)"
   ]
  },
  {
   "cell_type": "markdown",
   "metadata": {},
   "source": [
    "----------------------------------------"
   ]
  },
  {
   "cell_type": "markdown",
   "metadata": {},
   "source": [
    "### Models Baseline"
   ]
  },
  {
   "cell_type": "markdown",
   "metadata": {},
   "source": [
    "Generating a classification report for a random classifier, i.e., one that follows only the probabilities according to the natural imbalance of the target. The models will be evaluated based on how they outperform a random classifier."
   ]
  },
  {
   "cell_type": "code",
   "execution_count": 36,
   "metadata": {},
   "outputs": [
    {
     "name": "stdout",
     "output_type": "stream",
     "text": [
      "Random Classifier - Classification Report:\n",
      "              precision    recall  f1-score   support\n",
      "\n",
      "           0       0.62      0.62      0.62    209129\n",
      "           1       0.38      0.38      0.38    128042\n",
      "\n",
      "    accuracy                           0.53    337171\n",
      "   macro avg       0.50      0.50      0.50    337171\n",
      "weighted avg       0.53      0.53      0.53    337171\n",
      "\n"
     ]
    }
   ],
   "source": [
    "from sklearn.metrics import classification_report\n",
    "\n",
    "# Conta a proporção real das classes no conjunto de treinamento\n",
    "unique, counts = np.unique(y_train, return_counts=True)\n",
    "class_proportions = counts / counts.sum()\n",
    "\n",
    "# Gera previsões aleatórias seguindo a proporção das classes\n",
    "y_pred_random = np.random.choice(unique, size=len(y_test), p=class_proportions)\n",
    "\n",
    "# Avalia o desempenho do classificador aleatório\n",
    "print(\"Random Classifier - Classification Report:\")\n",
    "print(classification_report(y_test, y_pred_random))"
   ]
  },
  {
   "cell_type": "markdown",
   "metadata": {},
   "source": [
    "### Models with standarized data"
   ]
  },
  {
   "cell_type": "markdown",
   "metadata": {},
   "source": [
    "Using the entire selected dataset without division by clusters"
   ]
  },
  {
   "cell_type": "code",
   "execution_count": 37,
   "metadata": {},
   "outputs": [
    {
     "name": "stdout",
     "output_type": "stream",
     "text": [
      "X_train_selected shape: (337170, 16)\n",
      "X_train_resampled shape: (255308, 16)\n"
     ]
    }
   ],
   "source": [
    "# RandomUndersampling of scaled dataframe\n",
    "from imblearn.under_sampling import RandomUnderSampler\n",
    "\n",
    "# Initialize the RandomUnderSampler\n",
    "undersampler = RandomUnderSampler(sampling_strategy='auto', random_state=42)\n",
    "\n",
    "# Perform random undersampling on the training set\n",
    "X_train_resampled, y_train_resampled = undersampler.fit_resample(X_train_selected, y_train)\n",
    "\n",
    "# Print the shapes before and after\n",
    "print(f\"X_train_selected shape: {X_train_selected.shape}\")\n",
    "print(f\"X_train_resampled shape: {X_train_resampled.shape}\")\n"
   ]
  },
  {
   "cell_type": "markdown",
   "metadata": {},
   "source": [
    "LogisticRegression"
   ]
  },
  {
   "cell_type": "code",
   "execution_count": 39,
   "metadata": {},
   "outputs": [
    {
     "name": "stdout",
     "output_type": "stream",
     "text": [
      "              precision    recall  f1-score   support\n",
      "\n",
      "           0       0.65      0.80      0.72    127654\n",
      "           1       0.74      0.57      0.64    127654\n",
      "\n",
      "    accuracy                           0.68    255308\n",
      "   macro avg       0.69      0.68      0.68    255308\n",
      "weighted avg       0.69      0.68      0.68    255308\n",
      "\n",
      "              precision    recall  f1-score   support\n",
      "\n",
      "           0       0.75      0.80      0.78    209129\n",
      "           1       0.63      0.57      0.60    128042\n",
      "\n",
      "    accuracy                           0.71    337171\n",
      "   macro avg       0.69      0.69      0.69    337171\n",
      "weighted avg       0.71      0.71      0.71    337171\n",
      "\n",
      "------------------------------------------------------------\n"
     ]
    }
   ],
   "source": [
    "from sklearn.linear_model import LogisticRegression\n",
    "\n",
    "rl_model = LogisticRegression(random_state=42)\n",
    "rl_model.fit(X_train_resampled, y_train_resampled)\n",
    "\n",
    "y_train_pred_prueba = rl_model.predict(X_train_resampled)\n",
    "print(classification_report(y_train_resampled, y_train_pred_prueba))\n",
    "\n",
    "# Previsões no conjunto de teste\n",
    "y_test_pred_prueba = rl_model.predict(X_test_selected)\n",
    "print(classification_report(y_test, y_test_pred_prueba))\n",
    "print(\"-\" * 60)\n",
    "\n"
   ]
  },
  {
   "cell_type": "code",
   "execution_count": 40,
   "metadata": {},
   "outputs": [
    {
     "data": {
      "image/png": "[encoded data removed]",
      "text/plain": [
       "<Figure size 1000x600 with 1 Axes>"
      ]
     },
     "metadata": {},
     "output_type": "display_data"
    }
   ],
   "source": [
    "plot_feature_importance_logistic(rl_model, X_train_resampled.columns, \"Logistic Regression\")\n"
   ]
  },
  {
   "cell_type": "markdown",
   "metadata": {},
   "source": [
    "Arvores"
   ]
  },
  {
   "cell_type": "code",
   "execution_count": 41,
   "metadata": {},
   "outputs": [
    {
     "name": "stdout",
     "output_type": "stream",
     "text": [
      "X_train_selected shape: (337170, 16)\n",
      "X_train_resampled shape: (255308, 16)\n"
     ]
    }
   ],
   "source": [
    "# RandomUndersampling of non-scaled dataframe\n",
    "\n",
    "undersampler = RandomUnderSampler(sampling_strategy='auto', random_state=42)\n",
    "\n",
    "# Perform random undersampling on the training set\n",
    "X_train_resampled, y_train_resampled = undersampler.fit_resample(X_train_encoded, y_train)\n",
    "\n",
    "# Print the shapes before and after\n",
    "print(f\"X_train_selected shape: {X_train_encoded.shape}\")\n",
    "print(f\"X_train_resampled shape: {X_train_resampled.shape}\")"
   ]
  },
  {
   "cell_type": "markdown",
   "metadata": {},
   "source": [
    "RandomForest"
   ]
  },
  {
   "cell_type": "code",
   "execution_count": 43,
   "metadata": {},
   "outputs": [
    {
     "name": "stdout",
     "output_type": "stream",
     "text": [
      "\n",
      "Training RandomForest...\n"
     ]
    },
    {
     "ename": "KeyboardInterrupt",
     "evalue": "",
     "output_type": "error",
     "traceback": [
      "\u001b[1;31m---------------------------------------------------------------------------\u001b[0m",
      "\u001b[1;31mKeyboardInterrupt\u001b[0m                         Traceback (most recent call last)",
      "Cell \u001b[1;32mIn[43], line 19\u001b[0m\n\u001b[0;32m     17\u001b[0m \u001b[38;5;28;01mfor\u001b[39;00m model_name, model \u001b[38;5;129;01min\u001b[39;00m models\u001b[38;5;241m.\u001b[39mitems():\n\u001b[0;32m     18\u001b[0m     \u001b[38;5;28mprint\u001b[39m(\u001b[38;5;124mf\u001b[39m\u001b[38;5;124m\"\u001b[39m\u001b[38;5;130;01m\\n\u001b[39;00m\u001b[38;5;124mTraining \u001b[39m\u001b[38;5;132;01m{\u001b[39;00mmodel_name\u001b[38;5;132;01m}\u001b[39;00m\u001b[38;5;124m...\u001b[39m\u001b[38;5;124m\"\u001b[39m)\n\u001b[1;32m---> 19\u001b[0m     \u001b[43mmodel\u001b[49m\u001b[38;5;241;43m.\u001b[39;49m\u001b[43mfit\u001b[49m\u001b[43m(\u001b[49m\u001b[43mX_train_resampled\u001b[49m\u001b[43m,\u001b[49m\u001b[43m \u001b[49m\u001b[43my_train_resampled\u001b[49m\u001b[43m)\u001b[49m\n\u001b[0;32m     21\u001b[0m     y_train_pred \u001b[38;5;241m=\u001b[39m model\u001b[38;5;241m.\u001b[39mpredict(X_train_resampled)\n\u001b[0;32m     22\u001b[0m     y_test_pred \u001b[38;5;241m=\u001b[39m model\u001b[38;5;241m.\u001b[39mpredict(X_test_encoded)\n",
      "File \u001b[1;32mc:\\Users\\lucas\\anaconda3\\envs\\GPU-TensorFlow\\lib\\site-packages\\sklearn\\base.py:1473\u001b[0m, in \u001b[0;36m_fit_context.<locals>.decorator.<locals>.wrapper\u001b[1;34m(estimator, *args, **kwargs)\u001b[0m\n\u001b[0;32m   1466\u001b[0m     estimator\u001b[38;5;241m.\u001b[39m_validate_params()\n\u001b[0;32m   1468\u001b[0m \u001b[38;5;28;01mwith\u001b[39;00m config_context(\n\u001b[0;32m   1469\u001b[0m     skip_parameter_validation\u001b[38;5;241m=\u001b[39m(\n\u001b[0;32m   1470\u001b[0m         prefer_skip_nested_validation \u001b[38;5;129;01mor\u001b[39;00m global_skip_validation\n\u001b[0;32m   1471\u001b[0m     )\n\u001b[0;32m   1472\u001b[0m ):\n\u001b[1;32m-> 1473\u001b[0m     \u001b[38;5;28;01mreturn\u001b[39;00m fit_method(estimator, \u001b[38;5;241m*\u001b[39margs, \u001b[38;5;241m*\u001b[39m\u001b[38;5;241m*\u001b[39mkwargs)\n",
      "File \u001b[1;32mc:\\Users\\lucas\\anaconda3\\envs\\GPU-TensorFlow\\lib\\site-packages\\sklearn\\ensemble\\_forest.py:489\u001b[0m, in \u001b[0;36mBaseForest.fit\u001b[1;34m(self, X, y, sample_weight)\u001b[0m\n\u001b[0;32m    478\u001b[0m trees \u001b[38;5;241m=\u001b[39m [\n\u001b[0;32m    479\u001b[0m     \u001b[38;5;28mself\u001b[39m\u001b[38;5;241m.\u001b[39m_make_estimator(append\u001b[38;5;241m=\u001b[39m\u001b[38;5;28;01mFalse\u001b[39;00m, random_state\u001b[38;5;241m=\u001b[39mrandom_state)\n\u001b[0;32m    480\u001b[0m     \u001b[38;5;28;01mfor\u001b[39;00m i \u001b[38;5;129;01min\u001b[39;00m \u001b[38;5;28mrange\u001b[39m(n_more_estimators)\n\u001b[0;32m    481\u001b[0m ]\n\u001b[0;32m    483\u001b[0m \u001b[38;5;66;03m# Parallel loop: we prefer the threading backend as the Cython code\u001b[39;00m\n\u001b[0;32m    484\u001b[0m \u001b[38;5;66;03m# for fitting the trees is internally releasing the Python GIL\u001b[39;00m\n\u001b[0;32m    485\u001b[0m \u001b[38;5;66;03m# making threading more efficient than multiprocessing in\u001b[39;00m\n\u001b[0;32m    486\u001b[0m \u001b[38;5;66;03m# that case. However, for joblib 0.12+ we respect any\u001b[39;00m\n\u001b[0;32m    487\u001b[0m \u001b[38;5;66;03m# parallel_backend contexts set at a higher level,\u001b[39;00m\n\u001b[0;32m    488\u001b[0m \u001b[38;5;66;03m# since correctness does not rely on using threads.\u001b[39;00m\n\u001b[1;32m--> 489\u001b[0m trees \u001b[38;5;241m=\u001b[39m \u001b[43mParallel\u001b[49m\u001b[43m(\u001b[49m\n\u001b[0;32m    490\u001b[0m \u001b[43m    \u001b[49m\u001b[43mn_jobs\u001b[49m\u001b[38;5;241;43m=\u001b[39;49m\u001b[38;5;28;43mself\u001b[39;49m\u001b[38;5;241;43m.\u001b[39;49m\u001b[43mn_jobs\u001b[49m\u001b[43m,\u001b[49m\n\u001b[0;32m    491\u001b[0m \u001b[43m    \u001b[49m\u001b[43mverbose\u001b[49m\u001b[38;5;241;43m=\u001b[39;49m\u001b[38;5;28;43mself\u001b[39;49m\u001b[38;5;241;43m.\u001b[39;49m\u001b[43mverbose\u001b[49m\u001b[43m,\u001b[49m\n\u001b[0;32m    492\u001b[0m \u001b[43m    \u001b[49m\u001b[43mprefer\u001b[49m\u001b[38;5;241;43m=\u001b[39;49m\u001b[38;5;124;43m\"\u001b[39;49m\u001b[38;5;124;43mthreads\u001b[39;49m\u001b[38;5;124;43m\"\u001b[39;49m\u001b[43m,\u001b[49m\n\u001b[0;32m    493\u001b[0m \u001b[43m\u001b[49m\u001b[43m)\u001b[49m\u001b[43m(\u001b[49m\n\u001b[0;32m    494\u001b[0m \u001b[43m    \u001b[49m\u001b[43mdelayed\u001b[49m\u001b[43m(\u001b[49m\u001b[43m_parallel_build_trees\u001b[49m\u001b[43m)\u001b[49m\u001b[43m(\u001b[49m\n\u001b[0;32m    495\u001b[0m \u001b[43m        \u001b[49m\u001b[43mt\u001b[49m\u001b[43m,\u001b[49m\n\u001b[0;32m    496\u001b[0m \u001b[43m        \u001b[49m\u001b[38;5;28;43mself\u001b[39;49m\u001b[38;5;241;43m.\u001b[39;49m\u001b[43mbootstrap\u001b[49m\u001b[43m,\u001b[49m\n\u001b[0;32m    497\u001b[0m \u001b[43m        \u001b[49m\u001b[43mX\u001b[49m\u001b[43m,\u001b[49m\n\u001b[0;32m    498\u001b[0m \u001b[43m        \u001b[49m\u001b[43my\u001b[49m\u001b[43m,\u001b[49m\n\u001b[0;32m    499\u001b[0m \u001b[43m        \u001b[49m\u001b[43msample_weight\u001b[49m\u001b[43m,\u001b[49m\n\u001b[0;32m    500\u001b[0m \u001b[43m        \u001b[49m\u001b[43mi\u001b[49m\u001b[43m,\u001b[49m\n\u001b[0;32m    501\u001b[0m \u001b[43m        \u001b[49m\u001b[38;5;28;43mlen\u001b[39;49m\u001b[43m(\u001b[49m\u001b[43mtrees\u001b[49m\u001b[43m)\u001b[49m\u001b[43m,\u001b[49m\n\u001b[0;32m    502\u001b[0m \u001b[43m        \u001b[49m\u001b[43mverbose\u001b[49m\u001b[38;5;241;43m=\u001b[39;49m\u001b[38;5;28;43mself\u001b[39;49m\u001b[38;5;241;43m.\u001b[39;49m\u001b[43mverbose\u001b[49m\u001b[43m,\u001b[49m\n\u001b[0;32m    503\u001b[0m \u001b[43m        \u001b[49m\u001b[43mclass_weight\u001b[49m\u001b[38;5;241;43m=\u001b[39;49m\u001b[38;5;28;43mself\u001b[39;49m\u001b[38;5;241;43m.\u001b[39;49m\u001b[43mclass_weight\u001b[49m\u001b[43m,\u001b[49m\n\u001b[0;32m    504\u001b[0m \u001b[43m        \u001b[49m\u001b[43mn_samples_bootstrap\u001b[49m\u001b[38;5;241;43m=\u001b[39;49m\u001b[43mn_samples_bootstrap\u001b[49m\u001b[43m,\u001b[49m\n\u001b[0;32m    505\u001b[0m \u001b[43m        \u001b[49m\u001b[43mmissing_values_in_feature_mask\u001b[49m\u001b[38;5;241;43m=\u001b[39;49m\u001b[43mmissing_values_in_feature_mask\u001b[49m\u001b[43m,\u001b[49m\n\u001b[0;32m    506\u001b[0m \u001b[43m    \u001b[49m\u001b[43m)\u001b[49m\n\u001b[0;32m    507\u001b[0m \u001b[43m    \u001b[49m\u001b[38;5;28;43;01mfor\u001b[39;49;00m\u001b[43m \u001b[49m\u001b[43mi\u001b[49m\u001b[43m,\u001b[49m\u001b[43m \u001b[49m\u001b[43mt\u001b[49m\u001b[43m \u001b[49m\u001b[38;5;129;43;01min\u001b[39;49;00m\u001b[43m \u001b[49m\u001b[38;5;28;43menumerate\u001b[39;49m\u001b[43m(\u001b[49m\u001b[43mtrees\u001b[49m\u001b[43m)\u001b[49m\n\u001b[0;32m    508\u001b[0m \u001b[43m\u001b[49m\u001b[43m)\u001b[49m\n\u001b[0;32m    510\u001b[0m \u001b[38;5;66;03m# Collect newly grown trees\u001b[39;00m\n\u001b[0;32m    511\u001b[0m \u001b[38;5;28mself\u001b[39m\u001b[38;5;241m.\u001b[39mestimators_\u001b[38;5;241m.\u001b[39mextend(trees)\n",
      "File \u001b[1;32mc:\\Users\\lucas\\anaconda3\\envs\\GPU-TensorFlow\\lib\\site-packages\\sklearn\\utils\\parallel.py:74\u001b[0m, in \u001b[0;36mParallel.__call__\u001b[1;34m(self, iterable)\u001b[0m\n\u001b[0;32m     69\u001b[0m config \u001b[38;5;241m=\u001b[39m get_config()\n\u001b[0;32m     70\u001b[0m iterable_with_config \u001b[38;5;241m=\u001b[39m (\n\u001b[0;32m     71\u001b[0m     (_with_config(delayed_func, config), args, kwargs)\n\u001b[0;32m     72\u001b[0m     \u001b[38;5;28;01mfor\u001b[39;00m delayed_func, args, kwargs \u001b[38;5;129;01min\u001b[39;00m iterable\n\u001b[0;32m     73\u001b[0m )\n\u001b[1;32m---> 74\u001b[0m \u001b[38;5;28;01mreturn\u001b[39;00m \u001b[38;5;28;43msuper\u001b[39;49m\u001b[43m(\u001b[49m\u001b[43m)\u001b[49m\u001b[38;5;241;43m.\u001b[39;49m\u001b[38;5;21;43m__call__\u001b[39;49m\u001b[43m(\u001b[49m\u001b[43miterable_with_config\u001b[49m\u001b[43m)\u001b[49m\n",
      "File \u001b[1;32mc:\\Users\\lucas\\anaconda3\\envs\\GPU-TensorFlow\\lib\\site-packages\\joblib\\parallel.py:1918\u001b[0m, in \u001b[0;36mParallel.__call__\u001b[1;34m(self, iterable)\u001b[0m\n\u001b[0;32m   1916\u001b[0m     output \u001b[38;5;241m=\u001b[39m \u001b[38;5;28mself\u001b[39m\u001b[38;5;241m.\u001b[39m_get_sequential_output(iterable)\n\u001b[0;32m   1917\u001b[0m     \u001b[38;5;28mnext\u001b[39m(output)\n\u001b[1;32m-> 1918\u001b[0m     \u001b[38;5;28;01mreturn\u001b[39;00m output \u001b[38;5;28;01mif\u001b[39;00m \u001b[38;5;28mself\u001b[39m\u001b[38;5;241m.\u001b[39mreturn_generator \u001b[38;5;28;01melse\u001b[39;00m \u001b[38;5;28;43mlist\u001b[39;49m\u001b[43m(\u001b[49m\u001b[43moutput\u001b[49m\u001b[43m)\u001b[49m\n\u001b[0;32m   1920\u001b[0m \u001b[38;5;66;03m# Let's create an ID that uniquely identifies the current call. If the\u001b[39;00m\n\u001b[0;32m   1921\u001b[0m \u001b[38;5;66;03m# call is interrupted early and that the same instance is immediately\u001b[39;00m\n\u001b[0;32m   1922\u001b[0m \u001b[38;5;66;03m# re-used, this id will be used to prevent workers that were\u001b[39;00m\n\u001b[0;32m   1923\u001b[0m \u001b[38;5;66;03m# concurrently finalizing a task from the previous call to run the\u001b[39;00m\n\u001b[0;32m   1924\u001b[0m \u001b[38;5;66;03m# callback.\u001b[39;00m\n\u001b[0;32m   1925\u001b[0m \u001b[38;5;28;01mwith\u001b[39;00m \u001b[38;5;28mself\u001b[39m\u001b[38;5;241m.\u001b[39m_lock:\n",
      "File \u001b[1;32mc:\\Users\\lucas\\anaconda3\\envs\\GPU-TensorFlow\\lib\\site-packages\\joblib\\parallel.py:1847\u001b[0m, in \u001b[0;36mParallel._get_sequential_output\u001b[1;34m(self, iterable)\u001b[0m\n\u001b[0;32m   1845\u001b[0m \u001b[38;5;28mself\u001b[39m\u001b[38;5;241m.\u001b[39mn_dispatched_batches \u001b[38;5;241m+\u001b[39m\u001b[38;5;241m=\u001b[39m \u001b[38;5;241m1\u001b[39m\n\u001b[0;32m   1846\u001b[0m \u001b[38;5;28mself\u001b[39m\u001b[38;5;241m.\u001b[39mn_dispatched_tasks \u001b[38;5;241m+\u001b[39m\u001b[38;5;241m=\u001b[39m \u001b[38;5;241m1\u001b[39m\n\u001b[1;32m-> 1847\u001b[0m res \u001b[38;5;241m=\u001b[39m func(\u001b[38;5;241m*\u001b[39margs, \u001b[38;5;241m*\u001b[39m\u001b[38;5;241m*\u001b[39mkwargs)\n\u001b[0;32m   1848\u001b[0m \u001b[38;5;28mself\u001b[39m\u001b[38;5;241m.\u001b[39mn_completed_tasks \u001b[38;5;241m+\u001b[39m\u001b[38;5;241m=\u001b[39m \u001b[38;5;241m1\u001b[39m\n\u001b[0;32m   1849\u001b[0m \u001b[38;5;28mself\u001b[39m\u001b[38;5;241m.\u001b[39mprint_progress()\n",
      "File \u001b[1;32mc:\\Users\\lucas\\anaconda3\\envs\\GPU-TensorFlow\\lib\\site-packages\\sklearn\\utils\\parallel.py:136\u001b[0m, in \u001b[0;36m_FuncWrapper.__call__\u001b[1;34m(self, *args, **kwargs)\u001b[0m\n\u001b[0;32m    134\u001b[0m     config \u001b[38;5;241m=\u001b[39m {}\n\u001b[0;32m    135\u001b[0m \u001b[38;5;28;01mwith\u001b[39;00m config_context(\u001b[38;5;241m*\u001b[39m\u001b[38;5;241m*\u001b[39mconfig):\n\u001b[1;32m--> 136\u001b[0m     \u001b[38;5;28;01mreturn\u001b[39;00m \u001b[38;5;28mself\u001b[39m\u001b[38;5;241m.\u001b[39mfunction(\u001b[38;5;241m*\u001b[39margs, \u001b[38;5;241m*\u001b[39m\u001b[38;5;241m*\u001b[39mkwargs)\n",
      "File \u001b[1;32mc:\\Users\\lucas\\anaconda3\\envs\\GPU-TensorFlow\\lib\\site-packages\\sklearn\\ensemble\\_forest.py:192\u001b[0m, in \u001b[0;36m_parallel_build_trees\u001b[1;34m(tree, bootstrap, X, y, sample_weight, tree_idx, n_trees, verbose, class_weight, n_samples_bootstrap, missing_values_in_feature_mask)\u001b[0m\n\u001b[0;32m    189\u001b[0m     \u001b[38;5;28;01melif\u001b[39;00m class_weight \u001b[38;5;241m==\u001b[39m \u001b[38;5;124m\"\u001b[39m\u001b[38;5;124mbalanced_subsample\u001b[39m\u001b[38;5;124m\"\u001b[39m:\n\u001b[0;32m    190\u001b[0m         curr_sample_weight \u001b[38;5;241m*\u001b[39m\u001b[38;5;241m=\u001b[39m compute_sample_weight(\u001b[38;5;124m\"\u001b[39m\u001b[38;5;124mbalanced\u001b[39m\u001b[38;5;124m\"\u001b[39m, y, indices\u001b[38;5;241m=\u001b[39mindices)\n\u001b[1;32m--> 192\u001b[0m     \u001b[43mtree\u001b[49m\u001b[38;5;241;43m.\u001b[39;49m\u001b[43m_fit\u001b[49m\u001b[43m(\u001b[49m\n\u001b[0;32m    193\u001b[0m \u001b[43m        \u001b[49m\u001b[43mX\u001b[49m\u001b[43m,\u001b[49m\n\u001b[0;32m    194\u001b[0m \u001b[43m        \u001b[49m\u001b[43my\u001b[49m\u001b[43m,\u001b[49m\n\u001b[0;32m    195\u001b[0m \u001b[43m        \u001b[49m\u001b[43msample_weight\u001b[49m\u001b[38;5;241;43m=\u001b[39;49m\u001b[43mcurr_sample_weight\u001b[49m\u001b[43m,\u001b[49m\n\u001b[0;32m    196\u001b[0m \u001b[43m        \u001b[49m\u001b[43mcheck_input\u001b[49m\u001b[38;5;241;43m=\u001b[39;49m\u001b[38;5;28;43;01mFalse\u001b[39;49;00m\u001b[43m,\u001b[49m\n\u001b[0;32m    197\u001b[0m \u001b[43m        \u001b[49m\u001b[43mmissing_values_in_feature_mask\u001b[49m\u001b[38;5;241;43m=\u001b[39;49m\u001b[43mmissing_values_in_feature_mask\u001b[49m\u001b[43m,\u001b[49m\n\u001b[0;32m    198\u001b[0m \u001b[43m    \u001b[49m\u001b[43m)\u001b[49m\n\u001b[0;32m    199\u001b[0m \u001b[38;5;28;01melse\u001b[39;00m:\n\u001b[0;32m    200\u001b[0m     tree\u001b[38;5;241m.\u001b[39m_fit(\n\u001b[0;32m    201\u001b[0m         X,\n\u001b[0;32m    202\u001b[0m         y,\n\u001b[1;32m   (...)\u001b[0m\n\u001b[0;32m    205\u001b[0m         missing_values_in_feature_mask\u001b[38;5;241m=\u001b[39mmissing_values_in_feature_mask,\n\u001b[0;32m    206\u001b[0m     )\n",
      "File \u001b[1;32mc:\\Users\\lucas\\anaconda3\\envs\\GPU-TensorFlow\\lib\\site-packages\\sklearn\\tree\\_classes.py:472\u001b[0m, in \u001b[0;36mBaseDecisionTree._fit\u001b[1;34m(self, X, y, sample_weight, check_input, missing_values_in_feature_mask)\u001b[0m\n\u001b[0;32m    461\u001b[0m \u001b[38;5;28;01melse\u001b[39;00m:\n\u001b[0;32m    462\u001b[0m     builder \u001b[38;5;241m=\u001b[39m BestFirstTreeBuilder(\n\u001b[0;32m    463\u001b[0m         splitter,\n\u001b[0;32m    464\u001b[0m         min_samples_split,\n\u001b[1;32m   (...)\u001b[0m\n\u001b[0;32m    469\u001b[0m         \u001b[38;5;28mself\u001b[39m\u001b[38;5;241m.\u001b[39mmin_impurity_decrease,\n\u001b[0;32m    470\u001b[0m     )\n\u001b[1;32m--> 472\u001b[0m \u001b[43mbuilder\u001b[49m\u001b[38;5;241;43m.\u001b[39;49m\u001b[43mbuild\u001b[49m\u001b[43m(\u001b[49m\u001b[38;5;28;43mself\u001b[39;49m\u001b[38;5;241;43m.\u001b[39;49m\u001b[43mtree_\u001b[49m\u001b[43m,\u001b[49m\u001b[43m \u001b[49m\u001b[43mX\u001b[49m\u001b[43m,\u001b[49m\u001b[43m \u001b[49m\u001b[43my\u001b[49m\u001b[43m,\u001b[49m\u001b[43m \u001b[49m\u001b[43msample_weight\u001b[49m\u001b[43m,\u001b[49m\u001b[43m \u001b[49m\u001b[43mmissing_values_in_feature_mask\u001b[49m\u001b[43m)\u001b[49m\n\u001b[0;32m    474\u001b[0m \u001b[38;5;28;01mif\u001b[39;00m \u001b[38;5;28mself\u001b[39m\u001b[38;5;241m.\u001b[39mn_outputs_ \u001b[38;5;241m==\u001b[39m \u001b[38;5;241m1\u001b[39m \u001b[38;5;129;01mand\u001b[39;00m is_classifier(\u001b[38;5;28mself\u001b[39m):\n\u001b[0;32m    475\u001b[0m     \u001b[38;5;28mself\u001b[39m\u001b[38;5;241m.\u001b[39mn_classes_ \u001b[38;5;241m=\u001b[39m \u001b[38;5;28mself\u001b[39m\u001b[38;5;241m.\u001b[39mn_classes_[\u001b[38;5;241m0\u001b[39m]\n",
      "\u001b[1;31mKeyboardInterrupt\u001b[0m: "
     ]
    }
   ],
   "source": [
    "from sklearn.ensemble import RandomForestClassifier, GradientBoostingClassifier\n",
    "from xgboost import XGBClassifier\n",
    "from lightgbm import LGBMClassifier\n",
    "\n",
    "import warnings\n",
    "warnings.filterwarnings(\"ignore\")\n",
    "\n",
    "# Defining models\n",
    "models = {\n",
    "    \"RandomForest\": RandomForestClassifier(random_state=42),\n",
    "    \"XGBoost\": XGBClassifier(use_label_encoder=False, eval_metric='logloss', random_state=42),\n",
    "    \"GradientBoost\": GradientBoostingClassifier(random_state=42),\n",
    "    \"LightGBM\": LGBMClassifier(random_state=42)\n",
    "}\n",
    "\n",
    "# Training and evaluating models\n",
    "for model_name, model in models.items():\n",
    "    print(f\"\\nTraining {model_name}...\")\n",
    "    model.fit(X_train_resampled, y_train_resampled)\n",
    "    \n",
    "    y_train_pred = model.predict(X_train_resampled)\n",
    "    y_test_pred = model.predict(X_test_encoded)\n",
    "    \n",
    "    print(f\"\\n{model_name} - Training Classification Report:\\n{classification_report(y_train_resampled, y_train_pred)}\")\n",
    "    print(f\"\\n{model_name} - Test Classification Report:\\n{classification_report(y_test, y_test_pred)}\")"
   ]
  },
  {
   "cell_type": "code",
   "execution_count": 42,
   "metadata": {},
   "outputs": [
    {
     "name": "stdout",
     "output_type": "stream",
     "text": [
      "Fitting 5 folds for each of 20 candidates, totalling 100 fits\n",
      "\n",
      "RandomForest - Best Estimator:\n",
      " {'n_estimators': 200, 'min_samples_split': 5, 'min_samples_leaf': 2, 'max_depth': 15, 'bootstrap': False}\n",
      "\n",
      "RandomForest - Best Model Classification Report (Train):\n",
      "               precision    recall  f1-score   support\n",
      "\n",
      "           0       0.79      0.82      0.80    127654\n",
      "           1       0.81      0.78      0.79    127654\n",
      "\n",
      "    accuracy                           0.80    255308\n",
      "   macro avg       0.80      0.80      0.80    255308\n",
      "weighted avg       0.80      0.80      0.80    255308\n",
      "\n",
      "\n",
      "RandomForest - Best Model Classification Report (Test):\n",
      "               precision    recall  f1-score   support\n",
      "\n",
      "           0       0.74      0.69      0.72    209129\n",
      "           1       0.55      0.61      0.58    128042\n",
      "\n",
      "    accuracy                           0.66    337171\n",
      "   macro avg       0.65      0.65      0.65    337171\n",
      "weighted avg       0.67      0.66      0.66    337171\n",
      "\n"
     ]
    }
   ],
   "source": [
    "from sklearn.model_selection import RandomizedSearchCV\n",
    "\n",
    "rf_params = {\n",
    "    'n_estimators': np.arange(100, 500, 100),\n",
    "    'max_depth': [5, 7, 10, 12, 15],\n",
    "    'min_samples_split': [2, 5, 7, 10],\n",
    "    'min_samples_leaf': [1, 2, 4, 6],\n",
    "    'bootstrap': [True, False]\n",
    "}\n",
    "\n",
    "rf = RandomForestClassifier(random_state=42)\n",
    "rf_search = RandomizedSearchCV(rf, rf_params, scoring='f1', n_iter=20, cv=5, verbose=1, random_state=42, n_jobs=-1)\n",
    "rf_search.fit(X_train_resampled, y_train_resampled)\n",
    "best_random_rf = rf_search.best_estimator_\n",
    "print(\"\\nRandomForest - Best Estimator:\\n\", rf_search.best_params_)\n",
    "print(\"\\nRandomForest - Best Model Classification Report (Train):\\n\", classification_report(y_train_resampled, best_random_rf.predict(X_train_resampled)))\n",
    "print(\"\\nRandomForest - Best Model Classification Report (Test):\\n\", classification_report(y_test, best_random_rf.predict(X_test_encoded)))\n"
   ]
  },
  {
   "cell_type": "code",
   "execution_count": 43,
   "metadata": {},
   "outputs": [
    {
     "data": {
      "image/png": "[encoded data removed]",
      "text/plain": [
       "<Figure size 1000x600 with 1 Axes>"
      ]
     },
     "metadata": {},
     "output_type": "display_data"
    }
   ],
   "source": [
    "# Feature Importance for RandomForest\n",
    "plot_feature_importance(best_random_rf, X_train_resampled.columns, \"RandomForest\")"
   ]
  },
  {
   "cell_type": "code",
   "execution_count": 44,
   "metadata": {},
   "outputs": [
    {
     "name": "stdout",
     "output_type": "stream",
     "text": [
      "Random Forest - Percentage of True Positives (Class 1) with >90% Confidence: 89.18%\n"
     ]
    }
   ],
   "source": [
    "y_pred_proba_rf = best_random_rf.predict_proba(X_test_encoded)[:, 1]\n",
    "high_confidence_rf = y_pred_proba_rf > 0.9\n",
    "\n",
    "y_pred_rf = best_random_rf.predict(X_test_encoded)\n",
    "true_positives_rf = ((y_pred_rf == 1) & (y_test == 1) & high_confidence_rf).sum()\n",
    "total_high_confidence_rf = high_confidence_rf.sum()\n",
    "\n",
    "percentage_rf = (true_positives_rf / total_high_confidence_rf) * 100 if total_high_confidence_rf > 0 else 0\n",
    "print(f\"Random Forest - Percentage of True Positives (Class 1) with >90% Confidence: {percentage_rf:.2f}%\")\n"
   ]
  },
  {
   "cell_type": "code",
   "execution_count": 50,
   "metadata": {},
   "outputs": [
    {
     "name": "stdout",
     "output_type": "stream",
     "text": [
      "Fitting 5 folds for each of 20 candidates, totalling 100 fits\n",
      "\n",
      "XGBoost - Best Estimator:\n",
      " {'subsample': 0.9, 'n_estimators': 300, 'max_depth': 7, 'learning_rate': 0.07444444444444444, 'colsample_bytree': 0.9}\n",
      "\n",
      "XGBoost - Best Model Classification Report (Train):\n",
      "               precision    recall  f1-score   support\n",
      "\n",
      "           0       0.70      0.84      0.76    127654\n",
      "           1       0.80      0.63      0.71    127654\n",
      "\n",
      "    accuracy                           0.74    255308\n",
      "   macro avg       0.75      0.74      0.73    255308\n",
      "weighted avg       0.75      0.74      0.73    255308\n",
      "\n",
      "\n",
      "XGBoost - Best Model Classification Report (Test):\n",
      "               precision    recall  f1-score   support\n",
      "\n",
      "           0       0.76      0.80      0.78    209129\n",
      "           1       0.65      0.60      0.62    128042\n",
      "\n",
      "    accuracy                           0.72    337171\n",
      "   macro avg       0.71      0.70      0.70    337171\n",
      "weighted avg       0.72      0.72      0.72    337171\n",
      "\n"
     ]
    }
   ],
   "source": [
    "from sklearn.model_selection import RandomizedSearchCV\n",
    "\n",
    "# Randomized Search for XGBoost\n",
    "xgb_params = {\n",
    "    'n_estimators': np.arange(50, 450, 50),\n",
    "    'max_depth': np.arange(3, 15, 2),\n",
    "    'learning_rate': np.linspace(0.01, 0.3, 10),\n",
    "    'subsample': [0.6, 0.7, 0.8, 0.9],\n",
    "    'colsample_bytree': [0.6, 0.7, 0.8, 0.9]\n",
    "}\n",
    "xgb = XGBClassifier(use_label_encoder=False, eval_metric='logloss', random_state=42)\n",
    "xgb_search = RandomizedSearchCV(xgb, xgb_params, scoring='f1', n_iter=20, cv=5, verbose=1, random_state=42, n_jobs=-1)\n",
    "xgb_search.fit(X_train_resampled, y_train_resampled)\n",
    "best_random_xg = xgb_search.best_estimator_\n",
    "print(\"\\nXGBoost - Best Estimator:\\n\", xgb_search.best_params_)\n",
    "print(\"\\nXGBoost - Best Model Classification Report (Train):\\n\", classification_report(y_train_resampled, best_random_xg.predict(X_train_resampled)))\n",
    "print(\"\\nXGBoost - Best Model Classification Report (Test):\\n\", classification_report(y_test, best_random_xg.predict(X_test_encoded)))"
   ]
  },
  {
   "cell_type": "code",
   "execution_count": 80,
   "metadata": {},
   "outputs": [
    {
     "name": "stdout",
     "output_type": "stream",
     "text": [
      "Fitting 5 folds for each of 20 candidates, totalling 100 fits\n",
      "\n",
      "XGBoost - Best Estimator:\n",
      " {'subsample': 0.9, 'n_estimators': 300, 'max_depth': 7, 'learning_rate': 0.07444444444444444, 'colsample_bytree': 0.9}\n",
      "\n",
      "XGBoost - Best Model Classification Report (Train):\n",
      "               precision    recall  f1-score   support\n",
      "\n",
      "           0       0.70      0.82      0.76    127654\n",
      "           1       0.79      0.65      0.71    127654\n",
      "\n",
      "    accuracy                           0.74    255308\n",
      "   macro avg       0.74      0.74      0.73    255308\n",
      "weighted avg       0.74      0.74      0.73    255308\n",
      "\n",
      "\n",
      "XGBoost - Best Model Classification Report (Test):\n",
      "               precision    recall  f1-score   support\n",
      "\n",
      "           0       0.77      0.79      0.78    209129\n",
      "           1       0.64      0.61      0.62    128042\n",
      "\n",
      "    accuracy                           0.72    337171\n",
      "   macro avg       0.70      0.70      0.70    337171\n",
      "weighted avg       0.72      0.72      0.72    337171\n",
      "\n"
     ]
    }
   ],
   "source": [
    "import numpy as np\n",
    "from sklearn.model_selection import RandomizedSearchCV\n",
    "from xgboost import XGBClassifier\n",
    "from sklearn.metrics import classification_report\n",
    "\n",
    "# Define parameter grid for Randomized Search\n",
    "xgb_params = {\n",
    "    'n_estimators': np.arange(50, 450, 50),\n",
    "    'max_depth': np.arange(3, 15, 2),\n",
    "    'learning_rate': np.linspace(0.01, 0.3, 10),\n",
    "    'subsample': [0.6, 0.7, 0.8, 0.9],\n",
    "    'colsample_bytree': [0.6, 0.7, 0.8, 0.9]\n",
    "}\n",
    "\n",
    "# Initialize XGBoost Classifier\n",
    "xgb = XGBClassifier(use_label_encoder=False, eval_metric='logloss', random_state=42)\n",
    "\n",
    "# Perform Randomized Search with cross-validation\n",
    "xgb_search = RandomizedSearchCV(\n",
    "    xgb, xgb_params, scoring='f1', n_iter=20, cv=5, verbose=1, random_state=42, n_jobs=-1\n",
    ")\n",
    "xgb_search.fit(X_train_resampled, y_train_resampled)\n",
    "\n",
    "# Retrieve the best model\n",
    "best_random_xg = xgb_search.best_estimator_\n",
    "\n",
    "# Print best parameters\n",
    "print(\"\\nXGBoost - Best Estimator:\\n\", xgb_search.best_params_)\n",
    "\n",
    "# Function to apply custom threshold\n",
    "def custom_predict(model, X, threshold=0.5):\n",
    "    prob_0 = model.predict_proba(X)[:, 0]  # Probability of class 0\n",
    "    return np.where(prob_0 > threshold, 0, 1)  # Assign to class 1 if prob_0 > threshold\n",
    "\n",
    "# Print classification report for training data\n",
    "train_preds = custom_predict(best_random_xg, X_train_resampled, threshold=0.51)\n",
    "print(\"\\nXGBoost - Best Model Classification Report (Train):\\n\",\n",
    "      classification_report(y_train_resampled, train_preds))\n",
    "\n",
    "# Print classification report for test data\n",
    "test_preds = custom_predict(best_random_xg, X_test_encoded, threshold=0.51)\n",
    "print(\"\\nXGBoost - Best Model Classification Report (Test):\\n\",\n",
    "      classification_report(y_test, test_preds))\n"
   ]
  },
  {
   "cell_type": "code",
   "execution_count": 86,
   "metadata": {},
   "outputs": [
    {
     "name": "stdout",
     "output_type": "stream",
     "text": [
      "\n",
      "XGBoost - Best Model Classification Report (Train):\n",
      "               precision    recall  f1-score   support\n",
      "\n",
      "           0       0.93      0.10      0.19    127654\n",
      "           1       0.53      0.99      0.69    127654\n",
      "\n",
      "    accuracy                           0.55    255308\n",
      "   macro avg       0.73      0.55      0.44    255308\n",
      "weighted avg       0.73      0.55      0.44    255308\n",
      "\n",
      "\n",
      "XGBoost - Best Model Classification Report (Test):\n",
      "               precision    recall  f1-score   support\n",
      "\n",
      "           0       0.88      0.09      0.16    209129\n",
      "           1       0.40      0.98      0.57    128042\n",
      "\n",
      "    accuracy                           0.43    337171\n",
      "   macro avg       0.64      0.53      0.36    337171\n",
      "weighted avg       0.70      0.43      0.31    337171\n",
      "\n"
     ]
    }
   ],
   "source": [
    "# Print classification report for training data\n",
    "train_preds = custom_predict(best_random_xg, X_train_resampled, threshold=0.8)\n",
    "print(\"\\nXGBoost - Best Model Classification Report (Train):\\n\",\n",
    "      classification_report(y_train_resampled, train_preds))\n",
    "\n",
    "# Print classification report for test data\n",
    "test_preds = custom_predict(best_random_xg, X_test_encoded, threshold=0.8)\n",
    "print(\"\\nXGBoost - Best Model Classification Report (Test):\\n\",\n",
    "      classification_report(y_test, test_preds))"
   ]
  },
  {
   "cell_type": "code",
   "execution_count": 51,
   "metadata": {},
   "outputs": [
    {
     "data": {
      "image/png": "[encoded data removed]",
      "text/plain": [
       "<Figure size 1000x600 with 1 Axes>"
      ]
     },
     "metadata": {},
     "output_type": "display_data"
    }
   ],
   "source": [
    "plot_feature_importance(best_random_xg, X_train_resampled.columns, \"XGBoost\")"
   ]
  },
  {
   "cell_type": "code",
   "execution_count": 61,
   "metadata": {},
   "outputs": [
    {
     "name": "stdout",
     "output_type": "stream",
     "text": [
      "XGBoost - Percentage of True Positives (Class 1) with >90% Confidence: 89.95%\n"
     ]
    }
   ],
   "source": [
    "y_pred_proba_xg = best_random_xg.predict_proba(X_test_encoded)[:, 1]\n",
    "high_confidence_xg = y_pred_proba_xg > 0.70\n",
    "\n",
    "y_pred_xg = best_random_xg.predict(X_test_encoded)\n",
    "true_positives_xg = ((y_pred_xg == 1) & (y_test == 1) & high_confidence_xg).sum()\n",
    "total_high_confidence_xg = high_confidence_xg.sum()\n",
    "\n",
    "percentage_xg = (true_positives_xg / total_high_confidence_xg) * 100 if total_high_confidence_xg > 0 else 0\n",
    "print(f\"XGBoost - Percentage of True Positives (Class 1) with >90% Confidence: {percentage_xg:.2f}%\")\n"
   ]
  },
  {
   "cell_type": "code",
   "execution_count": 70,
   "metadata": {},
   "outputs": [
    {
     "name": "stdout",
     "output_type": "stream",
     "text": [
      "XGBoost - Percentage of True Positives (Class 0) with >70% Confidence: 49.78%\n"
     ]
    }
   ],
   "source": [
    "y_pred_proba_xg = best_random_xg.predict_proba(X_test_encoded)[:, 0]  # Probabilidade da classe 0\n",
    "high_confidence_xg = y_pred_proba_xg > 0.01  # Ajuste para alta confiança na classe 0\n",
    "\n",
    "y_pred_xg = best_random_xg.predict(X_test_encoded)\n",
    "true_positives_xg = ((y_pred_xg == 0) & (y_test == 0) & high_confidence_xg).sum()\n",
    "total_high_confidence_xg = high_confidence_xg.sum()\n",
    "\n",
    "percentage_xg = (true_positives_xg / total_high_confidence_xg) * 100 if total_high_confidence_xg > 0 else 0\n",
    "print(f\"XGBoost - Percentage of True Positives (Class 0) with >70% Confidence: {percentage_xg:.2f}%\")\n"
   ]
  },
  {
   "cell_type": "code",
   "execution_count": 46,
   "metadata": {},
   "outputs": [
    {
     "data": {
      "image/png": "[encoded data removed]",
      "text/plain": [
       "<Figure size 800x600 with 1 Axes>"
      ]
     },
     "metadata": {},
     "output_type": "display_data"
    }
   ],
   "source": [
    "import matplotlib.pyplot as plt\n",
    "from sklearn.metrics import roc_curve, auc\n",
    "from xgboost import XGBClassifier\n",
    "\n",
    "# Supondo que você já tenha ajustado o modelo e tenha X_test e y_test\n",
    "# Por exemplo:\n",
    "# best_random_xg = xgb_search.best_estimator_\n",
    "\n",
    "# Predições de probabilidade (não de rótulos, para obter a curva ROC)\n",
    "y_pred_prob = best_random_xg.predict_proba(X_test_encoded)[:, 1]  # Probabilidade da classe 1\n",
    "\n",
    "# Calcular a curva ROC\n",
    "fpr, tpr, thresholds = roc_curve(y_test, y_pred_prob)\n",
    "\n",
    "# Calcular a área sob a curva (AUC)\n",
    "roc_auc = auc(fpr, tpr)\n",
    "\n",
    "# Plotar a curva ROC\n",
    "plt.figure(figsize=(8, 6))\n",
    "plt.plot(fpr, tpr, color='b', label=f'ROC curve (area = {roc_auc:.2f})')\n",
    "plt.plot([0, 1], [0, 1], color='gray', linestyle='--')  # Linha diagonal (classificador aleatório)\n",
    "plt.xlabel('False Positive Rate')\n",
    "plt.ylabel('True Positive Rate')\n",
    "plt.title('Receiver Operating Characteristic (ROC) Curve')\n",
    "plt.legend(loc='lower right')\n",
    "plt.show()\n"
   ]
  },
  {
   "cell_type": "code",
   "execution_count": 49,
   "metadata": {},
   "outputs": [
    {
     "name": "stdout",
     "output_type": "stream",
     "text": [
      "[LightGBM] [Info] Number of positive: 127654, number of negative: 127654\n",
      "[LightGBM] [Info] Auto-choosing col-wise multi-threading, the overhead of testing was 0.009110 seconds.\n",
      "You can set `force_col_wise=true` to remove the overhead.\n",
      "[LightGBM] [Info] Total Bins 2655\n",
      "[LightGBM] [Info] Number of data points in the train set: 255308, number of used features: 15\n",
      "[LightGBM] [Info] [binary:BoostFromScore]: pavg=0.500000 -> initscore=0.000000\n",
      "[LightGBM] [Warning] No further splits with positive gain, best gain: -inf\n",
      "[LightGBM] [Warning] No further splits with positive gain, best gain: -inf\n",
      "[LightGBM] [Warning] No further splits with positive gain, best gain: -inf\n",
      "[LightGBM] [Warning] No further splits with positive gain, best gain: -inf\n",
      "[LightGBM] [Warning] No further splits with positive gain, best gain: -inf\n",
      "[LightGBM] [Warning] No further splits with positive gain, best gain: -inf\n",
      "[LightGBM] [Warning] No further splits with positive gain, best gain: -inf\n",
      "[LightGBM] [Warning] No further splits with positive gain, best gain: -inf\n",
      "[LightGBM] [Warning] No further splits with positive gain, best gain: -inf\n",
      "[LightGBM] [Warning] No further splits with positive gain, best gain: -inf\n",
      "[LightGBM] [Warning] No further splits with positive gain, best gain: -inf\n",
      "[LightGBM] [Warning] No further splits with positive gain, best gain: -inf\n",
      "[LightGBM] [Warning] No further splits with positive gain, best gain: -inf\n",
      "[LightGBM] [Warning] No further splits with positive gain, best gain: -inf\n",
      "[LightGBM] [Warning] No further splits with positive gain, best gain: -inf\n",
      "[LightGBM] [Warning] No further splits with positive gain, best gain: -inf\n",
      "[LightGBM] [Warning] No further splits with positive gain, best gain: -inf\n",
      "[LightGBM] [Warning] No further splits with positive gain, best gain: -inf\n",
      "[LightGBM] [Warning] No further splits with positive gain, best gain: -inf\n",
      "[LightGBM] [Warning] No further splits with positive gain, best gain: -inf\n",
      "[LightGBM] [Warning] No further splits with positive gain, best gain: -inf\n",
      "[LightGBM] [Warning] No further splits with positive gain, best gain: -inf\n",
      "[LightGBM] [Warning] No further splits with positive gain, best gain: -inf\n",
      "[LightGBM] [Warning] No further splits with positive gain, best gain: -inf\n",
      "[LightGBM] [Warning] No further splits with positive gain, best gain: -inf\n",
      "[LightGBM] [Warning] No further splits with positive gain, best gain: -inf\n",
      "[LightGBM] [Warning] No further splits with positive gain, best gain: -inf\n",
      "[LightGBM] [Warning] No further splits with positive gain, best gain: -inf\n",
      "[LightGBM] [Warning] No further splits with positive gain, best gain: -inf\n",
      "[LightGBM] [Warning] No further splits with positive gain, best gain: -inf\n",
      "[LightGBM] [Warning] No further splits with positive gain, best gain: -inf\n",
      "[LightGBM] [Warning] No further splits with positive gain, best gain: -inf\n",
      "[LightGBM] [Warning] No further splits with positive gain, best gain: -inf\n",
      "[LightGBM] [Warning] No further splits with positive gain, best gain: -inf\n",
      "[LightGBM] [Warning] No further splits with positive gain, best gain: -inf\n",
      "[LightGBM] [Warning] No further splits with positive gain, best gain: -inf\n",
      "[LightGBM] [Warning] No further splits with positive gain, best gain: -inf\n",
      "[LightGBM] [Warning] No further splits with positive gain, best gain: -inf\n",
      "[LightGBM] [Warning] No further splits with positive gain, best gain: -inf\n",
      "[LightGBM] [Warning] No further splits with positive gain, best gain: -inf\n",
      "[LightGBM] [Warning] No further splits with positive gain, best gain: -inf\n",
      "[LightGBM] [Warning] No further splits with positive gain, best gain: -inf\n",
      "[LightGBM] [Warning] No further splits with positive gain, best gain: -inf\n",
      "[LightGBM] [Warning] No further splits with positive gain, best gain: -inf\n",
      "[LightGBM] [Warning] No further splits with positive gain, best gain: -inf\n",
      "[LightGBM] [Warning] No further splits with positive gain, best gain: -inf\n",
      "[LightGBM] [Warning] No further splits with positive gain, best gain: -inf\n",
      "[LightGBM] [Warning] No further splits with positive gain, best gain: -inf\n",
      "[LightGBM] [Warning] No further splits with positive gain, best gain: -inf\n",
      "[LightGBM] [Warning] No further splits with positive gain, best gain: -inf\n",
      "[LightGBM] [Warning] No further splits with positive gain, best gain: -inf\n",
      "[LightGBM] [Warning] No further splits with positive gain, best gain: -inf\n",
      "[LightGBM] [Warning] No further splits with positive gain, best gain: -inf\n",
      "[LightGBM] [Warning] No further splits with positive gain, best gain: -inf\n",
      "[LightGBM] [Warning] No further splits with positive gain, best gain: -inf\n",
      "[LightGBM] [Warning] No further splits with positive gain, best gain: -inf\n",
      "[LightGBM] [Warning] No further splits with positive gain, best gain: -inf\n",
      "[LightGBM] [Warning] No further splits with positive gain, best gain: -inf\n",
      "[LightGBM] [Warning] No further splits with positive gain, best gain: -inf\n",
      "[LightGBM] [Warning] No further splits with positive gain, best gain: -inf\n",
      "[LightGBM] [Warning] No further splits with positive gain, best gain: -inf\n",
      "[LightGBM] [Warning] No further splits with positive gain, best gain: -inf\n",
      "[LightGBM] [Warning] No further splits with positive gain, best gain: -inf\n",
      "[LightGBM] [Warning] No further splits with positive gain, best gain: -inf\n",
      "[LightGBM] [Warning] No further splits with positive gain, best gain: -inf\n",
      "[LightGBM] [Warning] No further splits with positive gain, best gain: -inf\n",
      "[LightGBM] [Warning] No further splits with positive gain, best gain: -inf\n",
      "[LightGBM] [Warning] No further splits with positive gain, best gain: -inf\n",
      "[LightGBM] [Warning] No further splits with positive gain, best gain: -inf\n",
      "[LightGBM] [Warning] No further splits with positive gain, best gain: -inf\n",
      "[LightGBM] [Warning] No further splits with positive gain, best gain: -inf\n",
      "[LightGBM] [Warning] No further splits with positive gain, best gain: -inf\n",
      "[LightGBM] [Warning] No further splits with positive gain, best gain: -inf\n",
      "[LightGBM] [Warning] No further splits with positive gain, best gain: -inf\n",
      "[LightGBM] [Warning] No further splits with positive gain, best gain: -inf\n",
      "[LightGBM] [Warning] No further splits with positive gain, best gain: -inf\n",
      "[LightGBM] [Warning] No further splits with positive gain, best gain: -inf\n",
      "[LightGBM] [Warning] No further splits with positive gain, best gain: -inf\n",
      "[LightGBM] [Warning] No further splits with positive gain, best gain: -inf\n",
      "[LightGBM] [Warning] No further splits with positive gain, best gain: -inf\n",
      "[LightGBM] [Warning] No further splits with positive gain, best gain: -inf\n",
      "[LightGBM] [Warning] No further splits with positive gain, best gain: -inf\n",
      "[LightGBM] [Warning] No further splits with positive gain, best gain: -inf\n",
      "[LightGBM] [Warning] No further splits with positive gain, best gain: -inf\n",
      "[LightGBM] [Warning] No further splits with positive gain, best gain: -inf\n",
      "[LightGBM] [Warning] No further splits with positive gain, best gain: -inf\n",
      "[LightGBM] [Warning] No further splits with positive gain, best gain: -inf\n",
      "[LightGBM] [Warning] No further splits with positive gain, best gain: -inf\n",
      "[LightGBM] [Warning] No further splits with positive gain, best gain: -inf\n",
      "[LightGBM] [Warning] No further splits with positive gain, best gain: -inf\n",
      "[LightGBM] [Warning] No further splits with positive gain, best gain: -inf\n",
      "[LightGBM] [Warning] No further splits with positive gain, best gain: -inf\n",
      "[LightGBM] [Warning] No further splits with positive gain, best gain: -inf\n",
      "[LightGBM] [Warning] No further splits with positive gain, best gain: -inf\n",
      "[LightGBM] [Warning] No further splits with positive gain, best gain: -inf\n",
      "[LightGBM] [Warning] No further splits with positive gain, best gain: -inf\n",
      "[LightGBM] [Warning] No further splits with positive gain, best gain: -inf\n",
      "[LightGBM] [Warning] No further splits with positive gain, best gain: -inf\n",
      "[LightGBM] [Warning] No further splits with positive gain, best gain: -inf\n",
      "[LightGBM] [Warning] No further splits with positive gain, best gain: -inf\n",
      "[LightGBM] [Warning] No further splits with positive gain, best gain: -inf\n",
      "[LightGBM] [Warning] No further splits with positive gain, best gain: -inf\n",
      "[LightGBM] [Warning] No further splits with positive gain, best gain: -inf\n",
      "[LightGBM] [Warning] No further splits with positive gain, best gain: -inf\n",
      "[LightGBM] [Warning] No further splits with positive gain, best gain: -inf\n",
      "[LightGBM] [Warning] No further splits with positive gain, best gain: -inf\n",
      "[LightGBM] [Warning] No further splits with positive gain, best gain: -inf\n",
      "[LightGBM] [Warning] No further splits with positive gain, best gain: -inf\n",
      "[LightGBM] [Warning] No further splits with positive gain, best gain: -inf\n",
      "[LightGBM] [Warning] No further splits with positive gain, best gain: -inf\n",
      "[LightGBM] [Warning] No further splits with positive gain, best gain: -inf\n",
      "[LightGBM] [Warning] No further splits with positive gain, best gain: -inf\n",
      "[LightGBM] [Warning] No further splits with positive gain, best gain: -inf\n",
      "[LightGBM] [Warning] No further splits with positive gain, best gain: -inf\n",
      "[LightGBM] [Warning] No further splits with positive gain, best gain: -inf\n",
      "[LightGBM] [Warning] No further splits with positive gain, best gain: -inf\n",
      "[LightGBM] [Warning] No further splits with positive gain, best gain: -inf\n",
      "[LightGBM] [Warning] No further splits with positive gain, best gain: -inf\n",
      "[LightGBM] [Warning] No further splits with positive gain, best gain: -inf\n",
      "[LightGBM] [Warning] No further splits with positive gain, best gain: -inf\n",
      "[LightGBM] [Warning] No further splits with positive gain, best gain: -inf\n",
      "[LightGBM] [Warning] No further splits with positive gain, best gain: -inf\n",
      "[LightGBM] [Warning] No further splits with positive gain, best gain: -inf\n",
      "[LightGBM] [Warning] No further splits with positive gain, best gain: -inf\n",
      "[LightGBM] [Warning] No further splits with positive gain, best gain: -inf\n",
      "[LightGBM] [Warning] No further splits with positive gain, best gain: -inf\n",
      "[LightGBM] [Warning] No further splits with positive gain, best gain: -inf\n",
      "[LightGBM] [Warning] No further splits with positive gain, best gain: -inf\n",
      "[LightGBM] [Warning] No further splits with positive gain, best gain: -inf\n",
      "[LightGBM] [Warning] No further splits with positive gain, best gain: -inf\n",
      "[LightGBM] [Warning] No further splits with positive gain, best gain: -inf\n",
      "[LightGBM] [Warning] No further splits with positive gain, best gain: -inf\n",
      "[LightGBM] [Warning] No further splits with positive gain, best gain: -inf\n",
      "[LightGBM] [Warning] No further splits with positive gain, best gain: -inf\n",
      "[LightGBM] [Warning] No further splits with positive gain, best gain: -inf\n",
      "[LightGBM] [Warning] No further splits with positive gain, best gain: -inf\n",
      "[LightGBM] [Warning] No further splits with positive gain, best gain: -inf\n",
      "[LightGBM] [Warning] No further splits with positive gain, best gain: -inf\n",
      "[LightGBM] [Warning] No further splits with positive gain, best gain: -inf\n",
      "[LightGBM] [Warning] No further splits with positive gain, best gain: -inf\n",
      "[LightGBM] [Warning] No further splits with positive gain, best gain: -inf\n",
      "[LightGBM] [Warning] No further splits with positive gain, best gain: -inf\n",
      "[LightGBM] [Warning] No further splits with positive gain, best gain: -inf\n",
      "[LightGBM] [Warning] No further splits with positive gain, best gain: -inf\n",
      "[LightGBM] [Warning] No further splits with positive gain, best gain: -inf\n",
      "[LightGBM] [Warning] No further splits with positive gain, best gain: -inf\n",
      "[LightGBM] [Warning] No further splits with positive gain, best gain: -inf\n",
      "[LightGBM] [Warning] No further splits with positive gain, best gain: -inf\n",
      "[LightGBM] [Warning] No further splits with positive gain, best gain: -inf\n",
      "[LightGBM] [Warning] No further splits with positive gain, best gain: -inf\n",
      "[LightGBM] [Warning] No further splits with positive gain, best gain: -inf\n",
      "[LightGBM] [Warning] No further splits with positive gain, best gain: -inf\n",
      "[LightGBM] [Warning] No further splits with positive gain, best gain: -inf\n",
      "[LightGBM] [Warning] No further splits with positive gain, best gain: -inf\n",
      "[LightGBM] [Warning] No further splits with positive gain, best gain: -inf\n",
      "[LightGBM] [Warning] No further splits with positive gain, best gain: -inf\n",
      "[LightGBM] [Warning] No further splits with positive gain, best gain: -inf\n",
      "[LightGBM] [Warning] No further splits with positive gain, best gain: -inf\n",
      "[LightGBM] [Warning] No further splits with positive gain, best gain: -inf\n",
      "[LightGBM] [Warning] No further splits with positive gain, best gain: -inf\n",
      "[LightGBM] [Warning] No further splits with positive gain, best gain: -inf\n",
      "[LightGBM] [Warning] No further splits with positive gain, best gain: -inf\n",
      "[LightGBM] [Warning] No further splits with positive gain, best gain: -inf\n",
      "[LightGBM] [Warning] No further splits with positive gain, best gain: -inf\n",
      "[LightGBM] [Warning] No further splits with positive gain, best gain: -inf\n",
      "[LightGBM] [Warning] No further splits with positive gain, best gain: -inf\n",
      "[LightGBM] [Warning] No further splits with positive gain, best gain: -inf\n",
      "[LightGBM] [Warning] No further splits with positive gain, best gain: -inf\n",
      "[LightGBM] [Warning] No further splits with positive gain, best gain: -inf\n",
      "[LightGBM] [Warning] No further splits with positive gain, best gain: -inf\n",
      "[LightGBM] [Warning] No further splits with positive gain, best gain: -inf\n",
      "[LightGBM] [Warning] No further splits with positive gain, best gain: -inf\n",
      "[LightGBM] [Warning] No further splits with positive gain, best gain: -inf\n",
      "[LightGBM] [Warning] No further splits with positive gain, best gain: -inf\n",
      "[LightGBM] [Warning] No further splits with positive gain, best gain: -inf\n",
      "[LightGBM] [Warning] No further splits with positive gain, best gain: -inf\n",
      "[LightGBM] [Warning] No further splits with positive gain, best gain: -inf\n",
      "[LightGBM] [Warning] No further splits with positive gain, best gain: -inf\n",
      "[LightGBM] [Warning] No further splits with positive gain, best gain: -inf\n",
      "[LightGBM] [Warning] No further splits with positive gain, best gain: -inf\n",
      "[LightGBM] [Warning] No further splits with positive gain, best gain: -inf\n",
      "[LightGBM] [Warning] No further splits with positive gain, best gain: -inf\n",
      "[LightGBM] [Warning] No further splits with positive gain, best gain: -inf\n",
      "[LightGBM] [Warning] No further splits with positive gain, best gain: -inf\n",
      "[LightGBM] [Warning] No further splits with positive gain, best gain: -inf\n",
      "[LightGBM] [Warning] No further splits with positive gain, best gain: -inf\n",
      "[LightGBM] [Warning] No further splits with positive gain, best gain: -inf\n",
      "[LightGBM] [Warning] No further splits with positive gain, best gain: -inf\n",
      "[LightGBM] [Warning] No further splits with positive gain, best gain: -inf\n",
      "[LightGBM] [Warning] No further splits with positive gain, best gain: -inf\n",
      "[LightGBM] [Warning] No further splits with positive gain, best gain: -inf\n",
      "[LightGBM] [Warning] No further splits with positive gain, best gain: -inf\n",
      "[LightGBM] [Warning] No further splits with positive gain, best gain: -inf\n",
      "[LightGBM] [Warning] No further splits with positive gain, best gain: -inf\n",
      "[LightGBM] [Warning] No further splits with positive gain, best gain: -inf\n",
      "[LightGBM] [Warning] No further splits with positive gain, best gain: -inf\n",
      "[LightGBM] [Warning] No further splits with positive gain, best gain: -inf\n",
      "[LightGBM] [Warning] No further splits with positive gain, best gain: -inf\n",
      "[LightGBM] [Warning] No further splits with positive gain, best gain: -inf\n",
      "[LightGBM] [Warning] No further splits with positive gain, best gain: -inf\n",
      "[LightGBM] [Warning] No further splits with positive gain, best gain: -inf\n",
      "[LightGBM] [Warning] No further splits with positive gain, best gain: -inf\n",
      "[LightGBM] [Warning] No further splits with positive gain, best gain: -inf\n",
      "[LightGBM] [Warning] No further splits with positive gain, best gain: -inf\n",
      "[LightGBM] [Warning] No further splits with positive gain, best gain: -inf\n",
      "[LightGBM] [Warning] No further splits with positive gain, best gain: -inf\n",
      "[LightGBM] [Warning] No further splits with positive gain, best gain: -inf\n",
      "[LightGBM] [Warning] No further splits with positive gain, best gain: -inf\n",
      "[LightGBM] [Warning] No further splits with positive gain, best gain: -inf\n",
      "[LightGBM] [Warning] No further splits with positive gain, best gain: -inf\n",
      "[LightGBM] [Warning] No further splits with positive gain, best gain: -inf\n",
      "[LightGBM] [Warning] No further splits with positive gain, best gain: -inf\n",
      "[LightGBM] [Warning] No further splits with positive gain, best gain: -inf\n",
      "[LightGBM] [Warning] No further splits with positive gain, best gain: -inf\n",
      "[LightGBM] [Warning] No further splits with positive gain, best gain: -inf\n",
      "[LightGBM] [Warning] No further splits with positive gain, best gain: -inf\n",
      "[LightGBM] [Warning] No further splits with positive gain, best gain: -inf\n",
      "[LightGBM] [Warning] No further splits with positive gain, best gain: -inf\n",
      "[LightGBM] [Warning] No further splits with positive gain, best gain: -inf\n",
      "[LightGBM] [Warning] No further splits with positive gain, best gain: -inf\n",
      "[LightGBM] [Warning] No further splits with positive gain, best gain: -inf\n",
      "[LightGBM] [Warning] No further splits with positive gain, best gain: -inf\n",
      "[LightGBM] [Warning] No further splits with positive gain, best gain: -inf\n",
      "[LightGBM] [Warning] No further splits with positive gain, best gain: -inf\n",
      "[LightGBM] [Warning] No further splits with positive gain, best gain: -inf\n",
      "[LightGBM] [Warning] No further splits with positive gain, best gain: -inf\n",
      "[LightGBM] [Warning] No further splits with positive gain, best gain: -inf\n",
      "[LightGBM] [Warning] No further splits with positive gain, best gain: -inf\n",
      "[LightGBM] [Warning] No further splits with positive gain, best gain: -inf\n",
      "[LightGBM] [Warning] No further splits with positive gain, best gain: -inf\n",
      "[LightGBM] [Warning] No further splits with positive gain, best gain: -inf\n",
      "[LightGBM] [Warning] No further splits with positive gain, best gain: -inf\n",
      "[LightGBM] [Warning] No further splits with positive gain, best gain: -inf\n",
      "[LightGBM] [Warning] No further splits with positive gain, best gain: -inf\n",
      "[LightGBM] [Warning] No further splits with positive gain, best gain: -inf\n",
      "[LightGBM] [Warning] No further splits with positive gain, best gain: -inf\n",
      "[LightGBM] [Warning] No further splits with positive gain, best gain: -inf\n",
      "[LightGBM] [Warning] No further splits with positive gain, best gain: -inf\n",
      "[LightGBM] [Warning] No further splits with positive gain, best gain: -inf\n",
      "[LightGBM] [Warning] No further splits with positive gain, best gain: -inf\n",
      "[LightGBM] [Warning] No further splits with positive gain, best gain: -inf\n",
      "[LightGBM] [Warning] No further splits with positive gain, best gain: -inf\n",
      "[LightGBM] [Warning] No further splits with positive gain, best gain: -inf\n",
      "[LightGBM] [Warning] No further splits with positive gain, best gain: -inf\n",
      "[LightGBM] [Warning] No further splits with positive gain, best gain: -inf\n",
      "[LightGBM] [Warning] No further splits with positive gain, best gain: -inf\n",
      "[LightGBM] [Warning] No further splits with positive gain, best gain: -inf\n",
      "[LightGBM] [Warning] No further splits with positive gain, best gain: -inf\n",
      "[LightGBM] [Warning] No further splits with positive gain, best gain: -inf\n",
      "[LightGBM] [Warning] No further splits with positive gain, best gain: -inf\n",
      "[LightGBM] [Warning] No further splits with positive gain, best gain: -inf\n",
      "[LightGBM] [Warning] No further splits with positive gain, best gain: -inf\n",
      "[LightGBM] [Warning] No further splits with positive gain, best gain: -inf\n",
      "[LightGBM] [Warning] No further splits with positive gain, best gain: -inf\n",
      "[LightGBM] [Warning] No further splits with positive gain, best gain: -inf\n",
      "[LightGBM] [Warning] No further splits with positive gain, best gain: -inf\n",
      "[LightGBM] [Warning] No further splits with positive gain, best gain: -inf\n",
      "[LightGBM] [Warning] No further splits with positive gain, best gain: -inf\n",
      "[LightGBM] [Warning] No further splits with positive gain, best gain: -inf\n",
      "[LightGBM] [Warning] No further splits with positive gain, best gain: -inf\n",
      "[LightGBM] [Warning] No further splits with positive gain, best gain: -inf\n",
      "[LightGBM] [Warning] No further splits with positive gain, best gain: -inf\n",
      "[LightGBM] [Warning] No further splits with positive gain, best gain: -inf\n",
      "[LightGBM] [Warning] No further splits with positive gain, best gain: -inf\n",
      "[LightGBM] [Warning] No further splits with positive gain, best gain: -inf\n",
      "[LightGBM] [Warning] No further splits with positive gain, best gain: -inf\n",
      "[LightGBM] [Warning] No further splits with positive gain, best gain: -inf\n",
      "[LightGBM] [Warning] No further splits with positive gain, best gain: -inf\n",
      "[LightGBM] [Warning] No further splits with positive gain, best gain: -inf\n",
      "[LightGBM] [Warning] No further splits with positive gain, best gain: -inf\n",
      "[LightGBM] [Warning] No further splits with positive gain, best gain: -inf\n",
      "[LightGBM] [Warning] No further splits with positive gain, best gain: -inf\n",
      "[LightGBM] [Warning] No further splits with positive gain, best gain: -inf\n",
      "[LightGBM] [Warning] No further splits with positive gain, best gain: -inf\n",
      "[LightGBM] [Warning] No further splits with positive gain, best gain: -inf\n",
      "[LightGBM] [Warning] No further splits with positive gain, best gain: -inf\n",
      "[LightGBM] [Warning] No further splits with positive gain, best gain: -inf\n",
      "[LightGBM] [Warning] No further splits with positive gain, best gain: -inf\n",
      "[LightGBM] [Warning] No further splits with positive gain, best gain: -inf\n",
      "[LightGBM] [Warning] No further splits with positive gain, best gain: -inf\n",
      "[LightGBM] [Warning] No further splits with positive gain, best gain: -inf\n",
      "[LightGBM] [Warning] No further splits with positive gain, best gain: -inf\n",
      "[LightGBM] [Warning] No further splits with positive gain, best gain: -inf\n",
      "[LightGBM] [Warning] No further splits with positive gain, best gain: -inf\n",
      "[LightGBM] [Warning] No further splits with positive gain, best gain: -inf\n",
      "[LightGBM] [Warning] No further splits with positive gain, best gain: -inf\n",
      "[LightGBM] [Warning] No further splits with positive gain, best gain: -inf\n",
      "[LightGBM] [Warning] No further splits with positive gain, best gain: -inf\n",
      "[LightGBM] [Warning] No further splits with positive gain, best gain: -inf\n",
      "[LightGBM] [Warning] No further splits with positive gain, best gain: -inf\n",
      "[LightGBM] [Warning] No further splits with positive gain, best gain: -inf\n",
      "[LightGBM] [Warning] No further splits with positive gain, best gain: -inf\n",
      "[LightGBM] [Warning] No further splits with positive gain, best gain: -inf\n",
      "[LightGBM] [Warning] No further splits with positive gain, best gain: -inf\n",
      "[LightGBM] [Warning] No further splits with positive gain, best gain: -inf\n",
      "[LightGBM] [Warning] No further splits with positive gain, best gain: -inf\n",
      "[LightGBM] [Warning] No further splits with positive gain, best gain: -inf\n",
      "[LightGBM] [Warning] No further splits with positive gain, best gain: -inf\n",
      "[LightGBM] [Warning] No further splits with positive gain, best gain: -inf\n",
      "[LightGBM] [Warning] No further splits with positive gain, best gain: -inf\n",
      "[LightGBM] [Warning] No further splits with positive gain, best gain: -inf\n",
      "[LightGBM] [Warning] No further splits with positive gain, best gain: -inf\n",
      "[LightGBM] [Warning] No further splits with positive gain, best gain: -inf\n",
      "[LightGBM] [Warning] No further splits with positive gain, best gain: -inf\n",
      "[LightGBM] [Warning] No further splits with positive gain, best gain: -inf\n",
      "[LightGBM] [Warning] No further splits with positive gain, best gain: -inf\n",
      "[LightGBM] [Warning] No further splits with positive gain, best gain: -inf\n",
      "[LightGBM] [Warning] No further splits with positive gain, best gain: -inf\n",
      "[LightGBM] [Warning] No further splits with positive gain, best gain: -inf\n",
      "[LightGBM] [Warning] No further splits with positive gain, best gain: -inf\n",
      "[LightGBM] [Warning] No further splits with positive gain, best gain: -inf\n",
      "[LightGBM] [Warning] No further splits with positive gain, best gain: -inf\n",
      "[LightGBM] [Warning] No further splits with positive gain, best gain: -inf\n",
      "[LightGBM] [Warning] No further splits with positive gain, best gain: -inf\n",
      "[LightGBM] [Warning] No further splits with positive gain, best gain: -inf\n",
      "[LightGBM] [Warning] No further splits with positive gain, best gain: -inf\n",
      "[LightGBM] [Warning] No further splits with positive gain, best gain: -inf\n",
      "[LightGBM] [Warning] No further splits with positive gain, best gain: -inf\n",
      "[LightGBM] [Warning] No further splits with positive gain, best gain: -inf\n",
      "[LightGBM] [Warning] No further splits with positive gain, best gain: -inf\n",
      "[LightGBM] [Warning] No further splits with positive gain, best gain: -inf\n",
      "[LightGBM] [Warning] No further splits with positive gain, best gain: -inf\n",
      "[LightGBM] [Warning] No further splits with positive gain, best gain: -inf\n",
      "[LightGBM] [Warning] No further splits with positive gain, best gain: -inf\n",
      "[LightGBM] [Warning] No further splits with positive gain, best gain: -inf\n",
      "[LightGBM] [Warning] No further splits with positive gain, best gain: -inf\n",
      "[LightGBM] [Warning] No further splits with positive gain, best gain: -inf\n",
      "[LightGBM] [Warning] No further splits with positive gain, best gain: -inf\n",
      "[LightGBM] [Warning] No further splits with positive gain, best gain: -inf\n",
      "[LightGBM] [Warning] No further splits with positive gain, best gain: -inf\n",
      "[LightGBM] [Warning] No further splits with positive gain, best gain: -inf\n",
      "[LightGBM] [Warning] No further splits with positive gain, best gain: -inf\n",
      "[LightGBM] [Warning] No further splits with positive gain, best gain: -inf\n",
      "[LightGBM] [Warning] No further splits with positive gain, best gain: -inf\n",
      "[LightGBM] [Warning] No further splits with positive gain, best gain: -inf\n",
      "[LightGBM] [Warning] No further splits with positive gain, best gain: -inf\n",
      "[LightGBM] [Warning] No further splits with positive gain, best gain: -inf\n",
      "[LightGBM] [Warning] No further splits with positive gain, best gain: -inf\n",
      "[LightGBM] [Warning] No further splits with positive gain, best gain: -inf\n",
      "[LightGBM] [Warning] No further splits with positive gain, best gain: -inf\n",
      "[LightGBM] [Warning] No further splits with positive gain, best gain: -inf\n",
      "[LightGBM] [Warning] No further splits with positive gain, best gain: -inf\n",
      "[LightGBM] [Warning] No further splits with positive gain, best gain: -inf\n",
      "[LightGBM] [Warning] No further splits with positive gain, best gain: -inf\n",
      "[LightGBM] [Warning] No further splits with positive gain, best gain: -inf\n",
      "[LightGBM] [Warning] No further splits with positive gain, best gain: -inf\n",
      "[LightGBM] [Warning] No further splits with positive gain, best gain: -inf\n",
      "[LightGBM] [Warning] No further splits with positive gain, best gain: -inf\n",
      "[LightGBM] [Warning] No further splits with positive gain, best gain: -inf\n",
      "[LightGBM] [Warning] No further splits with positive gain, best gain: -inf\n",
      "\\LightGBM - Best Estimator:\n",
      " {'subsample': 0.7, 'num_leaves': 100, 'n_estimators': 350, 'max_depth': 5, 'learning_rate': 0.1388888888888889}\n",
      "\n",
      "LightGBM - Best Model Classification Report (Train):\n",
      "               precision    recall  f1-score   support\n",
      "\n",
      "           0       0.67      0.71      0.69    127654\n",
      "           1       0.69      0.66      0.67    127654\n",
      "\n",
      "    accuracy                           0.68    255308\n",
      "   macro avg       0.68      0.68      0.68    255308\n",
      "weighted avg       0.68      0.68      0.68    255308\n",
      "\n",
      "\n",
      "LightGBM - Best Model Classification Report (Test):\n",
      "               precision    recall  f1-score   support\n",
      "\n",
      "           0       0.75      0.68      0.72    209129\n",
      "           1       0.55      0.63      0.59    128042\n",
      "\n",
      "    accuracy                           0.66    337171\n",
      "   macro avg       0.65      0.66      0.65    337171\n",
      "weighted avg       0.67      0.66      0.67    337171\n",
      "\n"
     ]
    }
   ],
   "source": [
    "import warnings\n",
    "warnings.filterwarnings(\"ignore\")\n",
    "\n",
    "sys.stderr = open(os.devnull, \"w\")\n",
    "\n",
    "# Randomized Search for LightGBM\n",
    "lgbm_params = {\n",
    "    'n_estimators': np.arange(50, 450, 100),\n",
    "    'learning_rate': np.linspace(0.01, 0.3, 10),\n",
    "    'max_depth': np.arange(3, 15, 2),\n",
    "    'num_leaves': np.arange(20, 150, 10),\n",
    "    'subsample': [0.5, 0.6, 0.7, 0.8]\n",
    "}\n",
    "lgbm = LGBMClassifier(random_state=42)\n",
    "lgbm_search = RandomizedSearchCV(lgbm, lgbm_params, scoring='f1', n_iter=20, cv=5, verbose=0, random_state=42, n_jobs=-1)\n",
    "lgbm_search.fit(X_train_resampled, y_train_resampled)\n",
    "best_random_gbm = lgbm_search.best_estimator_\n",
    "print(\"\\LightGBM - Best Estimator:\\n\", lgbm_search.best_params_)\n",
    "\n",
    "print(\"\\nLightGBM - Best Model Classification Report (Train):\\n\", classification_report(y_train_resampled, best_random_gbm.predict(X_train_resampled)))\n",
    "print(\"\\nLightGBM - Best Model Classification Report (Test):\\n\", classification_report(y_test, best_random_gbm.predict(X_test_encoded)))"
   ]
  },
  {
   "cell_type": "code",
   "execution_count": 50,
   "metadata": {},
   "outputs": [
    {
     "data": {
      "image/png": "[encoded data removed]",
      "text/plain": [
       "<Figure size 1000x600 with 1 Axes>"
      ]
     },
     "metadata": {},
     "output_type": "display_data"
    }
   ],
   "source": [
    "plot_feature_importance(best_random_gbm, X_train_resampled.columns, \"LightGBM\")"
   ]
  },
  {
   "cell_type": "code",
   "execution_count": 51,
   "metadata": {},
   "outputs": [
    {
     "name": "stdout",
     "output_type": "stream",
     "text": [
      "LightGBM - Percentage of True Positives (Class 1) with >90% Confidence: 87.77%\n"
     ]
    }
   ],
   "source": [
    "y_pred_proba_gbm = best_random_gbm.predict_proba(X_test_encoded)[:, 1]\n",
    "high_confidence_gbm = y_pred_proba_gbm > 0.9\n",
    "\n",
    "y_pred_gbm = best_random_gbm.predict(X_test_encoded)\n",
    "true_positives_gbm = ((y_pred_gbm == 1) & (y_test == 1) & high_confidence_gbm).sum()\n",
    "total_high_confidence_gbm = high_confidence_gbm.sum()\n",
    "\n",
    "percentage_gbm = (true_positives_gbm / total_high_confidence_gbm) * 100 if total_high_confidence_gbm > 0 else 0\n",
    "print(f\"LightGBM - Percentage of True Positives (Class 1) with >90% Confidence: {percentage_gbm:.2f}%\")\n"
   ]
  },
  {
   "cell_type": "markdown",
   "metadata": {},
   "source": [
    "### Fine-Tuning and Hiperparams Search"
   ]
  },
  {
   "cell_type": "markdown",
   "metadata": {},
   "source": [
    "XGBClassifier"
   ]
  },
  {
   "cell_type": "code",
   "execution_count": 61,
   "metadata": {},
   "outputs": [],
   "source": [
    "# Define the objective function for optimization\n",
    "def objective(params):\n",
    "    # Initialize the XGBoost classifier with GPU settings\n",
    "    xgb = XGBClassifier(\n",
    "        n_estimators=int(params['n_estimators']),\n",
    "        max_depth=int(params['max_depth']),\n",
    "        learning_rate=params['learning_rate'],\n",
    "        subsample=params['subsample'],\n",
    "        colsample_bytree=params['colsample_bytree'],\n",
    "        use_label_encoder=False,\n",
    "        eval_metric='logloss',\n",
    "        random_state=42,\n",
    "        tree_method='gpu_hist',  # Enable GPU acceleration\n",
    "        gpu_id=0,  # Use the first GPU\n",
    "        n_jobs=-1  # Utilize all available CPU cores for pre-processing\n",
    "    )\n",
    "    \n",
    "    # Train the model\n",
    "    xgb.fit(X_train_resampled, y_train_resampled)\n",
    "    \n",
    "    # Make predictions\n",
    "    y_pred_test = xgb.predict(X_test_encoded)\n",
    "    \n",
    "    # Compute the F1 score on the test set\n",
    "    test_f1 = f1_score(y_test, y_pred_test)\n",
    "    \n",
    "    # Hyperopt minimizes the objective function, so we return the negative F1 score\n",
    "    return {'loss': -test_f1, 'status': 'ok'}\n"
   ]
  },
  {
   "cell_type": "code",
   "execution_count": 53,
   "metadata": {},
   "outputs": [
    {
     "data": {
      "text/plain": [
       "<bound method XGBModel.get_params of XGBClassifier(base_score=None, booster=None, callbacks=None,\n",
       "              colsample_bylevel=None, colsample_bynode=None,\n",
       "              colsample_bytree=0.6, device=None, early_stopping_rounds=None,\n",
       "              enable_categorical=False, eval_metric='logloss',\n",
       "              feature_types=None, gamma=None, grow_policy=None,\n",
       "              importance_type=None, interaction_constraints=None,\n",
       "              learning_rate=0.07444444444444444, max_bin=None,\n",
       "              max_cat_threshold=None, max_cat_to_onehot=None,\n",
       "              max_delta_step=None, max_depth=7, max_leaves=None,\n",
       "              min_child_weight=None, missing=nan, monotone_constraints=None,\n",
       "              multi_strategy=None, n_estimators=250, n_jobs=None,\n",
       "              num_parallel_tree=None, random_state=42, ...)>"
      ]
     },
     "execution_count": 53,
     "metadata": {},
     "output_type": "execute_result"
    }
   ],
   "source": [
    "best_random_xg.get_params"
   ]
  },
  {
   "cell_type": "code",
   "execution_count": 58,
   "metadata": {},
   "outputs": [
    {
     "name": "stdout",
     "output_type": "stream",
     "text": [
      "100%|██████████| 50/50 [01:51<00:00,  2.22s/trial, best loss: -0.6355102232080099]\n",
      "\n",
      "Best Hyperparameters found by Hyperopt:\n",
      "{'colsample_bytree': 0, 'learning_rate': 0.094, 'max_depth': 9.0, 'n_estimators': 230.0, 'subsample': 4}\n",
      "\n",
      "Best Model Classification Report (Train):\n",
      "               precision    recall  f1-score   support\n",
      "\n",
      "           0       0.75      0.78      0.76    127654\n",
      "           1       0.77      0.73      0.75    127654\n",
      "\n",
      "    accuracy                           0.76    255308\n",
      "   macro avg       0.76      0.76      0.76    255308\n",
      "weighted avg       0.76      0.76      0.76    255308\n",
      "\n",
      "\n",
      "Best Model Classification Report (Test):\n",
      "               precision    recall  f1-score   support\n",
      "\n",
      "           0       0.75      0.68      0.71    209129\n",
      "           1       0.55      0.64      0.59    128042\n",
      "\n",
      "    accuracy                           0.66    337171\n",
      "   macro avg       0.65      0.66      0.65    337171\n",
      "weighted avg       0.67      0.66      0.67    337171\n",
      "\n"
     ]
    }
   ],
   "source": [
    "from hyperopt import fmin, tpe, hp, Trials\n",
    "from sklearn.metrics import f1_score\n",
    "\n",
    "# Define the hyperparameter search space\n",
    "space = {\n",
    "    'n_estimators': hp.quniform('n_estimators', 225, 275, 5),\n",
    "    'max_depth': hp.quniform('max_depth', 5, 10, 0.5),\n",
    "    'learning_rate': hp.quniform('learning_rate', 0.05, 0.1, 0.001),\n",
    "    'subsample': hp.choice('subsample', [0.6, 0.65, 0.7, 0.75, 0.8]),  \n",
    "    'colsample_bytree': hp.choice('colsample_bytree', [0.5, 0.55, 0.6, 0.65, 0.7])  \n",
    "}\n",
    "\n",
    "# Initialize trials object to track results\n",
    "trials = Trials()\n",
    "\n",
    "# Random number generator\n",
    "rstate = np.random.default_rng(42)\n",
    "\n",
    "# Run optimization using Tree-structured Parzen Estimator (TPE)\n",
    "best = fmin(fn=objective, space=space, algo=tpe.suggest, max_evals=50, trials=trials, rstate=rstate)\n",
    "\n",
    "# Define the correct lookup lists for categorical hyperparameters\n",
    "subsample_values = [0.6, 0.65, 0.7, 0.75, 0.8]\n",
    "colsample_bytree_values = [0.5, 0.55, 0.6, 0.65, 0.7]\n",
    "\n",
    "# Print the best hyperparameters found by Hyperopt\n",
    "print(\"\\nBest Hyperparameters found by Hyperopt:\")\n",
    "print(best)\n",
    "\n",
    "# Train the best model with the selected hyperparameters\n",
    "best_model_xgb = XGBClassifier(\n",
    "    n_estimators=int(best['n_estimators']),\n",
    "    max_depth=int(best['max_depth']),\n",
    "    learning_rate=best['learning_rate'],\n",
    "    subsample=subsample_values[best['subsample']],\n",
    "    colsample_bytree=colsample_bytree_values[best['colsample_bytree']], \n",
    "    use_label_encoder=False,\n",
    "    eval_metric='logloss',\n",
    "    random_state=42,\n",
    "    tree_method='gpu_hist',\n",
    "    gpu_id=0,\n",
    "    n_jobs=-1\n",
    ")\n",
    "\n",
    "# Train the best model on the training data\n",
    "best_model_xgb.fit(X_train_resampled, y_train_resampled)\n",
    "\n",
    "# Make predictions on training and testing sets\n",
    "y_pred_train_best = best_model_xgb.predict(X_train_resampled)\n",
    "y_pred_test_best = best_model_xgb.predict(X_test_encoded)\n",
    "\n",
    "# Print the classification report for the training set\n",
    "print(\"\\nBest Model Classification Report (Train):\\n\", classification_report(y_train_resampled, y_pred_train_best))\n",
    "\n",
    "# Print the classification report for the test set\n",
    "print(\"\\nBest Model Classification Report (Test):\\n\", classification_report(y_test, y_pred_test_best))"
   ]
  },
  {
   "cell_type": "code",
   "execution_count": 69,
   "metadata": {},
   "outputs": [
    {
     "name": "stdout",
     "output_type": "stream",
     "text": [
      "XGBoost - Percentage of True Positives (Class 1) with >90% Confidence: 90.10%\n"
     ]
    }
   ],
   "source": [
    "y_pred_proba_xg = best_model_xgb.predict_proba(X_test_encoded)[:, 1]\n",
    "high_confidence_xg = y_pred_proba_xg > 0.90\n",
    "\n",
    "y_pred_xg = best_model_xgb.predict(X_test_encoded)\n",
    "true_positives_xg = ((y_pred_xg == 1) & (y_test == 1) & high_confidence_xg).sum()\n",
    "total_high_confidence_xg = high_confidence_xg.sum()\n",
    "\n",
    "percentage_xg = (true_positives_xg / total_high_confidence_xg) * 100 if total_high_confidence_xg > 0 else 0\n",
    "print(f\"XGBoost - Percentage of True Positives (Class 1) with >90% Confidence: {percentage_xg:.2f}%\")\n"
   ]
  },
  {
   "cell_type": "markdown",
   "metadata": {},
   "source": [
    "Random Forest"
   ]
  },
  {
   "cell_type": "code",
   "execution_count": null,
   "metadata": {},
   "outputs": [
    {
     "name": "stdout",
     "output_type": "stream",
     "text": [
      "Fitting 3 folds for each of 10 candidates, totalling 30 fits\n",
      "Best parameters found:  {'subsample': 0.9, 'scale_pos_weight': 10, 'n_estimators': 150, 'min_child_weight': 5, 'max_depth': 10, 'learning_rate': 0.1, 'gamma': 0.2, 'colsample_bytree': 0.7}\n",
      "Best score found:  0.6797433092763089\n",
      "Classification Report (Train) for XGBClassifier:\n",
      "              precision    recall  f1-score   support\n",
      "\n",
      "         0.0       1.00      0.22      0.37     69270\n",
      "         1.0       0.56      1.00      0.72     69270\n",
      "\n",
      "    accuracy                           0.61    138540\n",
      "   macro avg       0.78      0.61      0.54    138540\n",
      "weighted avg       0.78      0.61      0.54    138540\n",
      "\n",
      "Classification Report (Test) for XGBClassifier:\n",
      "              precision    recall  f1-score   support\n",
      "\n",
      "         0.0       0.92      0.13      0.23    618484\n",
      "         1.0       0.24      0.96      0.38    173081\n",
      "\n",
      "    accuracy                           0.31    791565\n",
      "   macro avg       0.58      0.54      0.30    791565\n",
      "weighted avg       0.77      0.31      0.26    791565\n",
      "\n"
     ]
    }
   ],
   "source": [
    "from sklearn.metrics import make_scorer, f1_score\n",
    "\n",
    "# Define the parameter grid for XGBoost\n",
    "param_dist = {\n",
    "    \"n_estimators\": [100, 150, 200, 300],\n",
    "    \"max_depth\": [5, 7, 10, 12, 15],\n",
    "    \"learning_rate\": [0.01, 0.1, 0.2],\n",
    "    \"subsample\": [0.7, 0.8, 0.9],\n",
    "    \"colsample_bytree\": [0.7, 0.8, 0.9],\n",
    "    \"scale_pos_weight\": [10, 20, 30, 40],\n",
    "    \"gamma\": [0, 0.1, 0.2],\n",
    "    \"min_child_weight\": [1, 5, 10],\n",
    "}\n",
    "\n",
    "# Create the XGBClassifier\n",
    "xgb = XGBClassifier(\n",
    "    random_state=42,\n",
    "    objective='binary:logitraw',\n",
    "    eval_metric='logloss',\n",
    ")\n",
    "\n",
    "# Create the RandomizedSearchCV object with precision as the scoring metric\n",
    "random_search = RandomizedSearchCV(\n",
    "    xgb,\n",
    "    param_distributions=param_dist,\n",
    "    n_iter=10,\n",
    "    cv=3,\n",
    "    verbose=2,\n",
    "    random_state=42,\n",
    "    n_jobs=-1,\n",
    "    scoring=make_scorer(f1_score, pos_label=1),\n",
    ")\n",
    "\n",
    "# Run RandomizedSearchCV with progress bar\n",
    "random_search.fit(X_train_undersampled, y_train_undersampled)\n",
    "\n",
    "# Print the best parameters and best precision score found\n",
    "print(\"Best parameters found: \", random_search.best_params_)\n",
    "print(\"Best score found: \", random_search.best_score_)\n",
    "\n",
    "# Use the best estimator from the RandomizedSearchCV\n",
    "best_xgb_model = random_search.best_estimator_\n",
    "\n",
    "# Evaluate the model on both training and test sets\n",
    "evaluate_model(best_xgb_model, X_train_undersampled, y_train_undersampled, X_test_encoded, y_test)\n",
    "\n"
   ]
  },
  {
   "cell_type": "code",
   "execution_count": null,
   "metadata": {},
   "outputs": [
    {
     "name": "stdout",
     "output_type": "stream",
     "text": [
      "Fitting 3 folds for each of 10 candidates, totalling 30 fits\n",
      "Best parameters found:  {'subsample': 0.9, 'n_estimators': 150, 'min_samples_split': 10, 'min_samples_leaf': 1, 'max_features': 'sqrt', 'max_depth': 10, 'learning_rate': 0.1}\n",
      "Best F1-score found:  0.6666468421156634\n",
      "Classification Report (Train) for GradientBoostingClassifier:\n",
      "              precision    recall  f1-score   support\n",
      "\n",
      "         0.0       0.74      0.77      0.75    172896\n",
      "         1.0       0.76      0.72      0.74    172896\n",
      "\n",
      "    accuracy                           0.75    345792\n",
      "   macro avg       0.75      0.75      0.75    345792\n",
      "weighted avg       0.75      0.75      0.75    345792\n",
      "\n",
      "Classification Report (Test) for GradientBoostingClassifier:\n",
      "              precision    recall  f1-score   support\n",
      "\n",
      "         0.0       0.87      0.69      0.77    618484\n",
      "         1.0       0.36      0.64      0.46    173081\n",
      "\n",
      "    accuracy                           0.68    791565\n",
      "   macro avg       0.62      0.66      0.62    791565\n",
      "weighted avg       0.76      0.68      0.70    791565\n",
      "\n"
     ]
    }
   ],
   "source": [
    "# Define the parameter grid for GradientBoostingClassifier\n",
    "param_dist = {\n",
    "    \"n_estimators\": [100, 150, 200],  # Number of boosting stages (similar to n_estimators in XGBoost)\n",
    "    \"max_depth\": [3, 5, 10],  # Maximum depth of each tree\n",
    "    \"learning_rate\": [0.01, 0.1, 0.2],  # Step size shrinking to make the model more robust\n",
    "    \"subsample\": [0.7, 0.8, 0.9],  # Fraction of samples to use for fitting each tree (analogous to subsample in XGBoost)\n",
    "    \"min_samples_split\": [2, 5, 10],  # The minimum number of samples required to split an internal node\n",
    "    \"min_samples_leaf\": [1, 2, 4],  # The minimum number of samples required to be at a leaf node\n",
    "    \"max_features\": [\"sqrt\", \"log2\", None],  # The number of features to consider when looking for the best split\n",
    "}\n",
    "\n",
    "# Create the GradientBoostingClassifier\n",
    "gb = GradientBoostingClassifier(\n",
    "    random_state=42,\n",
    "    loss='log_loss',  # Logarithmic loss (log loss) for binary classification\n",
    ")\n",
    "\n",
    "# Create the RandomizedSearchCV object with F1-score as the scoring metric\n",
    "random_search = RandomizedSearchCV(\n",
    "    gb,\n",
    "    param_distributions=param_dist,\n",
    "    n_iter=10,  # Number of random attempts\n",
    "    cv=3,  # 3-fold cross-validation\n",
    "    verbose=2,  # Print details during the search\n",
    "    random_state=42,\n",
    "    n_jobs=-1,  # Use all available CPU cores\n",
    "    scoring='precision',  # F1-score for class 1 \n",
    ")\n",
    "\n",
    "\n",
    "# Run RandomizedSearchCV with progress bar\n",
    "random_search.fit(X_train_undersampled, y_train_undersampled)\n",
    "\n",
    "# Print the best parameters and best F1-score found\n",
    "print(\"Best parameters found: \", random_search.best_params_)\n",
    "print(\"Best F1-score found: \", random_search.best_score_)\n",
    "\n",
    "# Use the best estimator from the RandomizedSearchCV\n",
    "best_gb_model = random_search.best_estimator_\n",
    "\n",
    "# Evaluate the model on both training and test sets\n",
    "evaluate_model(best_gb_model, X_train_undersampled, y_train_undersampled, X_test_encoded, y_test)\n"
   ]
  },
  {
   "cell_type": "code",
   "execution_count": null,
   "metadata": {},
   "outputs": [
    {
     "name": "stdout",
     "output_type": "stream",
     "text": [
      "[LightGBM] [Info] Number of positive: 69270, number of negative: 69270\n",
      "[LightGBM] [Info] Auto-choosing col-wise multi-threading, the overhead of testing was 0.006825 seconds.\n",
      "You can set `force_col_wise=true` to remove the overhead.\n",
      "[LightGBM] [Info] Total Bins 3443\n",
      "[LightGBM] [Info] Number of data points in the train set: 138540, number of used features: 24\n",
      "[LightGBM] [Info] [binary:BoostFromScore]: pavg=0.500000 -> initscore=0.000000\n",
      "Best parameters found:  {'subsample': 0.9, 'scale_pos_weight': 1, 'reg_lambda': 0, 'reg_alpha': 0.1, 'n_estimators': 200, 'min_child_weight': 5, 'min_child_samples': 10, 'max_depth': 12, 'learning_rate': 0.1, 'colsample_bytree': 0.9}\n",
      "Best F1-score found:  0.6530801184702341\n",
      "[LightGBM] [Info] Number of positive: 69270, number of negative: 69270\n",
      "[LightGBM] [Info] Auto-choosing col-wise multi-threading, the overhead of testing was 0.007064 seconds.\n",
      "You can set `force_col_wise=true` to remove the overhead.\n",
      "[LightGBM] [Info] Total Bins 3443\n",
      "[LightGBM] [Info] Number of data points in the train set: 138540, number of used features: 24\n",
      "[LightGBM] [Info] [binary:BoostFromScore]: pavg=0.500000 -> initscore=0.000000\n",
      "Classification Report (Train) for LGBMClassifier:\n",
      "              precision    recall  f1-score   support\n",
      "\n",
      "         0.0       0.67      0.71      0.69     69270\n",
      "         1.0       0.69      0.65      0.67     69270\n",
      "\n",
      "    accuracy                           0.68    138540\n",
      "   macro avg       0.68      0.68      0.68    138540\n",
      "weighted avg       0.68      0.68      0.68    138540\n",
      "\n",
      "Classification Report (Test) for LGBMClassifier:\n",
      "              precision    recall  f1-score   support\n",
      "\n",
      "         0.0       0.87      0.69      0.77    618484\n",
      "         1.0       0.36      0.62      0.45    173081\n",
      "\n",
      "    accuracy                           0.67    791565\n",
      "   macro avg       0.61      0.66      0.61    791565\n",
      "weighted avg       0.76      0.67      0.70    791565\n",
      "\n"
     ]
    }
   ],
   "source": [
    "warnings.filterwarnings(\"ignore\", category=UserWarning, module='lightgbm')\n",
    "\n",
    "# Define the parameter grid for LGBMClassifier\n",
    "param_dist = {\n",
    "    \"n_estimators\": [100, 150, 200, 250, 300],  # Number of boosting iterations (similar to n_estimators in XGBoost)\n",
    "    \"max_depth\": [3, 5, 7, 10, 12, 15],  # Maximum depth of each tree\n",
    "    \"learning_rate\": [0.01, 0.1, 0.2],  # Step size shrinking to make the model more robust\n",
    "    \"subsample\": [0.7, 0.8, 0.9],  # Fraction of samples to use for fitting each tree\n",
    "    \"colsample_bytree\": [0.7, 0.8, 0.9],  # Fraction of features to consider when building each tree\n",
    "    \"scale_pos_weight\": [1, 10, 20],  # Used to scale the weight of the positive class (helps with imbalanced classes)\n",
    "    \"min_child_samples\": [10, 20, 30],  # Minimum number of samples a leaf node must have\n",
    "    \"min_child_weight\": [1, 5, 10],  # Minimum sum of instance weight (hessian) needed in a child\n",
    "    \"reg_alpha\": [0, 0.1, 0.5],  # L1 regularization term on weights\n",
    "    \"reg_lambda\": [0, 0.1, 0.5],  # L2 regularization term on weights\n",
    "}\n",
    "\n",
    "# Create the LGBMClassifier\n",
    "lgbm = lgb.LGBMClassifier(\n",
    "    random_state=42,\n",
    "    objective='binary',  # Binary classification problem\n",
    "    metric='binary_logloss',  # Binary log loss as the evaluation metric\n",
    ")\n",
    "\n",
    "# Create the RandomizedSearchCV object with F1-score as the scoring metric\n",
    "random_search = RandomizedSearchCV(\n",
    "    lgbm,\n",
    "    param_distributions=param_dist,\n",
    "    n_iter=10,  # Number of random attempts\n",
    "    cv=5,  # 3-fold cross-validation\n",
    "    verbose=0,  # Print details during the search\n",
    "    random_state=42,\n",
    "    n_jobs=-1,  # Use all available CPU cores\n",
    "    scoring='f1_macro',  # F1-score for class 1 \n",
    ")\n",
    "\n",
    "# Run RandomizedSearchCV with progress bar\n",
    "random_search.fit(X_train_undersampled, y_train_undersampled)\n",
    "\n",
    "# Print the best parameters and best F1-score found\n",
    "print(\"Best parameters found: \", random_search.best_params_)\n",
    "print(\"Best F1-score found: \", random_search.best_score_)\n",
    "\n",
    "# Use the best estimator from the RandomizedSearchCV\n",
    "best_lgbm_model = random_search.best_estimator_\n",
    "\n",
    "# Evaluate the model on both training and test sets\n",
    "evaluate_model(best_lgbm_model, X_train_undersampled, y_train_undersampled, X_test_encoded, y_test)\n"
   ]
  },
  {
   "cell_type": "code",
   "execution_count": null,
   "metadata": {},
   "outputs": [],
   "source": []
  },
  {
   "cell_type": "code",
   "execution_count": null,
   "metadata": {},
   "outputs": [],
   "source": [
    "# Import necessary libraries\n",
    "from catboost import CatBoostClassifier\n",
    "from sklearn.model_selection import RandomizedSearchCV\n",
    "from scipy.stats import randint\n",
    "\n",
    "categorical_features = features_cat + features_id\n",
    "\n",
    "# Define the CatBoost model\n",
    "catboost_model = CatBoostClassifier(iterations=1000, depth=10, learning_rate=0.1, loss_function='Logloss', verbose=0)\n",
    "\n",
    "# Define the parameter grid for RandomizedSearchCV\n",
    "param_dist = {\n",
    "    'iterations': randint(100, 500),  # Number of boosting iterations (lower range)\n",
    "    'depth': randint(3, 8),  # Maximum depth of the trees (smaller range)\n",
    "    'learning_rate': [0.05, 0.1, 0.2],  # Learning rate (fewer options)\n",
    "    'l2_leaf_reg': [1, 5, 10],  # L2 regularization term (fewer options)\n",
    "    'border_count': randint(32, 100),  # Number of splits for numeric features (smaller range)\n",
    "    'max_ctr_complexity': [1, 2]  # Maximum complexity of categorical feature combinations (fewer options)\n",
    "}\n",
    "\n",
    "# Set up the RandomizedSearchCV\n",
    "random_search = RandomizedSearchCV(catboost_model, param_distributions=param_dist, n_iter=20, scoring='f1', cv=3, \n",
    "                                   verbose=0, random_state=42, error_score='raise')\n",
    "\n",
    "# Fit the RandomizedSearchCV to find the best parameters\n",
    "print(\"Starting Randomized Search...\")\n",
    "random_search.fit(X_train, y_train, cat_features=categorical_features)\n",
    "\n",
    "# Output the best parameters and the best score\n",
    "print(f\"Best Parameters: {random_search.best_params_}\")\n",
    "print(f\"Best Score: {random_search.best_score_}\")\n",
    "\n",
    "# Evaluate the best model on the test set\n",
    "best_model = random_search.best_estimator_\n",
    "test_score = best_model.score(X_test, y_test)\n",
    "print(f\"Test Set Accuracy: {test_score}\")\n"
   ]
  },
  {
   "cell_type": "markdown",
   "metadata": {},
   "source": [
    "Deep Learning"
   ]
  },
  {
   "cell_type": "code",
   "execution_count": null,
   "metadata": {},
   "outputs": [],
   "source": [
    "from tqdm import tqdm\n",
    "from sklearn.neural_network import MLPClassifier\n",
    "from sklearn.model_selection import RandomizedSearchCV\n",
    "from scipy.stats import uniform, randint\n",
    "import time\n",
    "\n",
    "import warnings\n",
    "warnings.simplefilter(\"ignore\")  # Suppresses warnings\n",
    "\n",
    "\n",
    "# Define the model with the updated parameters\n",
    "mlp = MLPClassifier(\n",
    "    random_state=42,                    # Ensures reproducibility\n",
    "    warm_start=False                    # No incremental training, starting fresh each time\n",
    ")\n",
    "\n",
    "# Define the hyperparameters for RandomizedSearchCV\n",
    "# param_dist = {\n",
    "#     'hidden_layer_sizes': [(100,), (100, 50), (100, 50, 25), (200, 100, 50)],\n",
    "#     'activation': ['relu', 'tanh'],\n",
    "#     'solver': ['adam', 'sgd'],\n",
    "#     'batch_size': [128, 512, 1024],\n",
    "#     'max_iter': [10, 50, 100],\n",
    "# }\n",
    "\n",
    "param_dist = {\n",
    "    'hidden_layer_sizes': [(100,), (100, 50), (100, 50, 25)],\n",
    "    'activation': ['relu', 'tanh'],\n",
    "    'solver': ['adam', 'sgd'],\n",
    "    'batch_size': [128, 1024],\n",
    "    'max_iter': [10, 50],\n",
    "}\n",
    "\n",
    "# Use RandomizedSearchCV for hyperparameter tuning\n",
    "random_search = RandomizedSearchCV(mlp, param_distributions=param_dist, n_iter=10, cv=3, random_state=42, verbose=1)\n",
    "\n",
    "# Use tqdm to create a friendly progress bar for the training loop\n",
    "epochs = 50\n",
    "progress_bar = tqdm(range(epochs), desc=\"Training Progress\", unit=\"epoch\", ascii=\"->\")\n",
    "\n",
    "# NearMiss 1\n",
    "for _ in progress_bar:\n",
    "    random_search.fit(X_train_resampled_1, y_train_resampled_1)\n",
    "\n",
    "# Make predictions\n",
    "y_pred_train_mlp = random_search.predict(X_train_resampled_1)\n",
    "y_pred_test_mlp = random_search.predict(X_test_scaled)\n",
    "\n",
    "# Evaluate the model\n",
    "print(\"Train Classification Report:\")\n",
    "print(classification_report(y_train_resampled_1, y_pred_train_mlp))\n",
    "print(\"-\" * 60)\n",
    "\n",
    "print(\"Test Classification Report:\")\n",
    "print(classification_report(y_test, y_pred_test_mlp))\n",
    "print(\"-\" * 60)"
   ]
  },
  {
   "cell_type": "code",
   "execution_count": null,
   "metadata": {},
   "outputs": [],
   "source": []
  },
  {
   "cell_type": "code",
   "execution_count": null,
   "metadata": {},
   "outputs": [],
   "source": []
  },
  {
   "cell_type": "code",
   "execution_count": null,
   "metadata": {},
   "outputs": [],
   "source": []
  },
  {
   "cell_type": "code",
   "execution_count": null,
   "metadata": {},
   "outputs": [],
   "source": []
  },
  {
   "cell_type": "code",
   "execution_count": null,
   "metadata": {},
   "outputs": [],
   "source": []
  },
  {
   "cell_type": "code",
   "execution_count": null,
   "metadata": {},
   "outputs": [],
   "source": []
  },
  {
   "cell_type": "code",
   "execution_count": null,
   "metadata": {},
   "outputs": [],
   "source": []
  },
  {
   "cell_type": "code",
   "execution_count": null,
   "metadata": {},
   "outputs": [],
   "source": []
  }
 ],
 "metadata": {
  "kernelspec": {
   "display_name": "GPU-TensorFlow",
   "language": "python",
   "name": "python3"
  },
  "language_info": {
   "codemirror_mode": {
    "name": "ipython",
    "version": 3
   },
   "file_extension": ".py",
   "mimetype": "text/x-python",
   "name": "python",
   "nbconvert_exporter": "python",
   "pygments_lexer": "ipython3",
   "version": "3.9.21"
  }
 },
 "nbformat": 4,
 "nbformat_minor": 2
}
